{
  "nbformat": 4,
  "nbformat_minor": 0,
  "metadata": {
    "colab": {
      "provenance": [],
      "authorship_tag": "ABX9TyOW1bXIzDEiak6FD26Xg4u+",
      "include_colab_link": true
    },
    "kernelspec": {
      "name": "python3",
      "display_name": "Python 3"
    },
    "language_info": {
      "name": "python"
    }
  },
  "cells": [
    {
      "cell_type": "markdown",
      "metadata": {
        "id": "view-in-github",
        "colab_type": "text"
      },
      "source": [
        "<a href=\"https://colab.research.google.com/github/dlrstrum/labs/blob/main/lab3.ipynb\" target=\"_parent\"><img src=\"https://colab.research.google.com/assets/colab-badge.svg\" alt=\"Open In Colab\"/></a>"
      ]
    },
    {
      "cell_type": "code",
      "execution_count": 5,
      "metadata": {
        "id": "V_EGxRnjnIgd"
      },
      "outputs": [],
      "source": [
        "#Functions\n",
        "def my_function():\n",
        "  print(\"Hello from a function\")"
      ]
    },
    {
      "cell_type": "code",
      "source": [
        "def my_function():\n",
        "  print(\"Hello from a function\")\n",
        "\n",
        "my_function()"
      ],
      "metadata": {
        "colab": {
          "base_uri": "https://localhost:8080/"
        },
        "id": "YCt-q7JtGOeS",
        "outputId": "2c8c2de5-561a-44ce-f32a-e5d5332824a7"
      },
      "execution_count": 4,
      "outputs": [
        {
          "output_type": "stream",
          "name": "stdout",
          "text": [
            "Hello from a function\n"
          ]
        }
      ]
    },
    {
      "cell_type": "code",
      "source": [
        "def my_function(fname):\n",
        "  print(fname + \" Refsnes\")\n",
        "\n",
        "my_function(\"Emil\")\n",
        "my_function(\"Tobias\")\n",
        "my_function(\"Linus\")"
      ],
      "metadata": {
        "colab": {
          "base_uri": "https://localhost:8080/"
        },
        "id": "gtgGmVZjGedm",
        "outputId": "55147df9-a7ed-438e-a79e-a826b31524bb"
      },
      "execution_count": 6,
      "outputs": [
        {
          "output_type": "stream",
          "name": "stdout",
          "text": [
            "Emil Refsnes\n",
            "Tobias Refsnes\n",
            "Linus Refsnes\n"
          ]
        }
      ]
    },
    {
      "cell_type": "code",
      "source": [
        "def my_function(fname, lname):\n",
        "  print(fname + \" \" + lname)\n",
        "\n",
        "my_function(\"Emil\", \"Refsnes\")"
      ],
      "metadata": {
        "colab": {
          "base_uri": "https://localhost:8080/"
        },
        "id": "XhfUam8vGjZM",
        "outputId": "00a28e70-aeec-4596-f94c-fef22bc13904"
      },
      "execution_count": 7,
      "outputs": [
        {
          "output_type": "stream",
          "name": "stdout",
          "text": [
            "Emil Refsnes\n"
          ]
        }
      ]
    },
    {
      "cell_type": "code",
      "source": [
        "def my_function(*kids):\n",
        "  print(\"The youngest child is \" + kids[2])\n",
        "\n",
        "my_function(\"Emil\", \"Tobias\", \"Linus\")"
      ],
      "metadata": {
        "colab": {
          "base_uri": "https://localhost:8080/"
        },
        "id": "uj9G0KJ-Gjif",
        "outputId": "eabded8d-1bae-4327-bf5c-6a93f710acb7"
      },
      "execution_count": 8,
      "outputs": [
        {
          "output_type": "stream",
          "name": "stdout",
          "text": [
            "The youngest child is Linus\n"
          ]
        }
      ]
    },
    {
      "cell_type": "code",
      "source": [
        "def my_function(child3, child2, child1):\n",
        "  print(\"The youngest child is \" + child3)\n",
        "\n",
        "my_function(child1 = \"Emil\", child2 = \"Tobias\", child3 = \"Linus\")"
      ],
      "metadata": {
        "colab": {
          "base_uri": "https://localhost:8080/"
        },
        "id": "8bZHjxwHGjpy",
        "outputId": "4f9f518a-9a01-424c-c4dc-70cdd3a6d095"
      },
      "execution_count": 9,
      "outputs": [
        {
          "output_type": "stream",
          "name": "stdout",
          "text": [
            "The youngest child is Linus\n"
          ]
        }
      ]
    },
    {
      "cell_type": "code",
      "source": [
        "def my_function(**kid):\n",
        "  print(\"His last name is \" + kid[\"lname\"])\n",
        "\n",
        "my_function(fname = \"Tobias\", lname = \"Refsnes\")"
      ],
      "metadata": {
        "colab": {
          "base_uri": "https://localhost:8080/"
        },
        "id": "3Dp18vPZGjxH",
        "outputId": "33c89d01-7a80-4f66-bae7-e61cdf9a76c3"
      },
      "execution_count": 10,
      "outputs": [
        {
          "output_type": "stream",
          "name": "stdout",
          "text": [
            "His last name is Refsnes\n"
          ]
        }
      ]
    },
    {
      "cell_type": "code",
      "source": [
        "def my_function(country = \"Norway\"):\n",
        "  print(\"I am from \" + country)\n",
        "\n",
        "my_function(\"Sweden\")\n",
        "my_function(\"India\")\n",
        "my_function()\n",
        "my_function(\"Brazil\")"
      ],
      "metadata": {
        "colab": {
          "base_uri": "https://localhost:8080/"
        },
        "id": "O-3ojAOyGj48",
        "outputId": "478a0b36-ed3e-4d2f-da4b-ff36e6aa8344"
      },
      "execution_count": 11,
      "outputs": [
        {
          "output_type": "stream",
          "name": "stdout",
          "text": [
            "I am from Sweden\n",
            "I am from India\n",
            "I am from Norway\n",
            "I am from Brazil\n"
          ]
        }
      ]
    },
    {
      "cell_type": "code",
      "source": [
        "def my_function(food):\n",
        "  for x in food:\n",
        "    print(x)\n",
        "\n",
        "fruits = [\"apple\", \"banana\", \"cherry\"]\n",
        "\n",
        "my_function(fruits)"
      ],
      "metadata": {
        "colab": {
          "base_uri": "https://localhost:8080/"
        },
        "id": "pMnm_MP_GzzR",
        "outputId": "04c6eab4-686c-421f-857e-9f1134aa228c"
      },
      "execution_count": 12,
      "outputs": [
        {
          "output_type": "stream",
          "name": "stdout",
          "text": [
            "apple\n",
            "banana\n",
            "cherry\n"
          ]
        }
      ]
    },
    {
      "cell_type": "code",
      "source": [
        "def my_function(x):\n",
        "  return 5 * x\n",
        "\n",
        "print(my_function(3))\n",
        "print(my_function(5))\n",
        "print(my_function(9))"
      ],
      "metadata": {
        "colab": {
          "base_uri": "https://localhost:8080/"
        },
        "id": "X1fp6VRYG0Bd",
        "outputId": "1a401e37-168f-488e-e189-ca81dd30fa4f"
      },
      "execution_count": 13,
      "outputs": [
        {
          "output_type": "stream",
          "name": "stdout",
          "text": [
            "15\n",
            "25\n",
            "45\n"
          ]
        }
      ]
    },
    {
      "cell_type": "code",
      "source": [
        "def myfunction():\n",
        "  pass\n",
        "\n",
        "# having an empty function definition like this, would raise an error without the pass statement"
      ],
      "metadata": {
        "id": "e1wx9W3iG0fS"
      },
      "execution_count": 14,
      "outputs": []
    },
    {
      "cell_type": "code",
      "source": [
        "def my_function(x, /):\n",
        "  print(x)\n",
        "\n",
        "my_function(3)"
      ],
      "metadata": {
        "colab": {
          "base_uri": "https://localhost:8080/"
        },
        "id": "JqWkOwnTG0mz",
        "outputId": "bd0c40a4-9638-44e4-c04c-a9fd887fc650"
      },
      "execution_count": 15,
      "outputs": [
        {
          "output_type": "stream",
          "name": "stdout",
          "text": [
            "3\n"
          ]
        }
      ]
    },
    {
      "cell_type": "code",
      "source": [
        "def my_function(x):\n",
        "  print(x)\n",
        "\n",
        "my_function(x = 3)"
      ],
      "metadata": {
        "colab": {
          "base_uri": "https://localhost:8080/"
        },
        "id": "6TR8T9qdG0uM",
        "outputId": "f4e06fc8-e14c-4ee3-c24a-6f02b5c4ca10"
      },
      "execution_count": 16,
      "outputs": [
        {
          "output_type": "stream",
          "name": "stdout",
          "text": [
            "3\n"
          ]
        }
      ]
    },
    {
      "cell_type": "code",
      "source": [
        "def my_function(*, x):\n",
        "  print(x)\n",
        "\n",
        "my_function(x = 3)"
      ],
      "metadata": {
        "colab": {
          "base_uri": "https://localhost:8080/"
        },
        "id": "7A8d27qrG02T",
        "outputId": "45844152-e11e-48e4-9406-478e28e4c842"
      },
      "execution_count": 17,
      "outputs": [
        {
          "output_type": "stream",
          "name": "stdout",
          "text": [
            "3\n"
          ]
        }
      ]
    },
    {
      "cell_type": "code",
      "source": [
        "def my_function(x):\n",
        "  print(x)\n",
        "\n",
        "my_function(3)"
      ],
      "metadata": {
        "colab": {
          "base_uri": "https://localhost:8080/"
        },
        "id": "fpIvBpegHOdi",
        "outputId": "487ed413-350b-4f70-f645-0a9918188990"
      },
      "execution_count": 18,
      "outputs": [
        {
          "output_type": "stream",
          "name": "stdout",
          "text": [
            "3\n"
          ]
        }
      ]
    },
    {
      "cell_type": "code",
      "source": [
        "def my_function(a, b, /, *, c, d):\n",
        "  print(a + b + c + d)\n",
        "\n",
        "my_function(5, 6, c = 7, d = 8)"
      ],
      "metadata": {
        "colab": {
          "base_uri": "https://localhost:8080/"
        },
        "id": "jOYqZArzHOmP",
        "outputId": "7695329f-b8df-4e8a-f2b4-9e49177b8d55"
      },
      "execution_count": 19,
      "outputs": [
        {
          "output_type": "stream",
          "name": "stdout",
          "text": [
            "26\n"
          ]
        }
      ]
    },
    {
      "cell_type": "code",
      "source": [
        "def tri_recursion(k):\n",
        "  if(k > 0):\n",
        "    result = k + tri_recursion(k - 1)\n",
        "    print(result)\n",
        "  else:\n",
        "    result = 0\n",
        "  return result\n",
        "\n",
        "print(\"Recursion Example Results:\")\n",
        "tri_recursion(6)"
      ],
      "metadata": {
        "colab": {
          "base_uri": "https://localhost:8080/"
        },
        "id": "eTo0zSWaHOwa",
        "outputId": "d58d13d6-cb89-4c65-ba3b-dc29e7ec53ab"
      },
      "execution_count": 20,
      "outputs": [
        {
          "output_type": "stream",
          "name": "stdout",
          "text": [
            "Recursion Example Results:\n",
            "1\n",
            "3\n",
            "6\n",
            "10\n",
            "15\n",
            "21\n"
          ]
        },
        {
          "output_type": "execute_result",
          "data": {
            "text/plain": [
              "21"
            ]
          },
          "metadata": {},
          "execution_count": 20
        }
      ]
    },
    {
      "cell_type": "code",
      "source": [
        "#Lambda\n",
        "x = lambda a : a + 10\n",
        "print(x(5))"
      ],
      "metadata": {
        "colab": {
          "base_uri": "https://localhost:8080/"
        },
        "id": "PdLAPHgAHO57",
        "outputId": "c800b993-2da0-4db0-911c-3de0ff41c750"
      },
      "execution_count": 21,
      "outputs": [
        {
          "output_type": "stream",
          "name": "stdout",
          "text": [
            "15\n"
          ]
        }
      ]
    },
    {
      "cell_type": "code",
      "source": [
        "x = lambda a, b : a * b\n",
        "print(x(5, 6))"
      ],
      "metadata": {
        "colab": {
          "base_uri": "https://localhost:8080/"
        },
        "id": "AEiRyqPIHPBw",
        "outputId": "884d1652-cbdf-4af7-85ae-c95d2c5ee14d"
      },
      "execution_count": 22,
      "outputs": [
        {
          "output_type": "stream",
          "name": "stdout",
          "text": [
            "30\n"
          ]
        }
      ]
    },
    {
      "cell_type": "code",
      "source": [
        "x = lambda a, b, c : a + b + c\n",
        "print(x(5, 6, 2))"
      ],
      "metadata": {
        "colab": {
          "base_uri": "https://localhost:8080/"
        },
        "id": "VZt3kNTWHPKt",
        "outputId": "523c76e5-d732-4ead-cb91-6b208fd60fea"
      },
      "execution_count": 23,
      "outputs": [
        {
          "output_type": "stream",
          "name": "stdout",
          "text": [
            "13\n"
          ]
        }
      ]
    },
    {
      "cell_type": "code",
      "source": [
        "def myfunc(n):\n",
        "  return lambda a : a * n\n",
        "\n",
        "mydoubler = myfunc(2)\n",
        "\n",
        "print(mydoubler(11))"
      ],
      "metadata": {
        "colab": {
          "base_uri": "https://localhost:8080/"
        },
        "id": "bPhjSgmTHPTQ",
        "outputId": "82d50773-a8a3-426d-9128-e4907e96ed88"
      },
      "execution_count": 25,
      "outputs": [
        {
          "output_type": "stream",
          "name": "stdout",
          "text": [
            "22\n"
          ]
        }
      ]
    },
    {
      "cell_type": "code",
      "source": [
        "def myfunc(n):\n",
        "  return lambda a : a * n\n",
        "\n",
        "mytripler = myfunc(3)\n",
        "\n",
        "print(mytripler(11))"
      ],
      "metadata": {
        "colab": {
          "base_uri": "https://localhost:8080/"
        },
        "id": "vvnWh4TGHPbp",
        "outputId": "8fd51377-3956-4377-ee56-e727d64dd847"
      },
      "execution_count": 26,
      "outputs": [
        {
          "output_type": "stream",
          "name": "stdout",
          "text": [
            "33\n"
          ]
        }
      ]
    },
    {
      "cell_type": "code",
      "source": [
        "def myfunc(n):\n",
        "  return lambda a : a * n\n",
        "\n",
        "mydoubler = myfunc(2)\n",
        "mytripler = myfunc(3)\n",
        "\n",
        "print(mydoubler(11))\n",
        "print(mytripler(11))"
      ],
      "metadata": {
        "colab": {
          "base_uri": "https://localhost:8080/"
        },
        "id": "E-u5borPHzC7",
        "outputId": "61332bd2-f019-4c49-f267-a4bb069daa58"
      },
      "execution_count": 27,
      "outputs": [
        {
          "output_type": "stream",
          "name": "stdout",
          "text": [
            "22\n",
            "33\n"
          ]
        }
      ]
    },
    {
      "cell_type": "code",
      "source": [
        "#Arrays\n",
        "\n",
        "cars = [\"Ford\", \"Volvo\", \"BMW\"]\n",
        "\n",
        "x = cars[0]\n",
        "\n",
        "print(x)"
      ],
      "metadata": {
        "colab": {
          "base_uri": "https://localhost:8080/"
        },
        "id": "pSG06Y9QHzIo",
        "outputId": "ae7fc093-5793-43e9-db5c-80c7859f7473"
      },
      "execution_count": 28,
      "outputs": [
        {
          "output_type": "stream",
          "name": "stdout",
          "text": [
            "Ford\n"
          ]
        }
      ]
    },
    {
      "cell_type": "code",
      "source": [
        "cars = [\"Ford\", \"Volvo\", \"BMW\"]\n",
        "\n",
        "cars[0] = \"Toyota\"\n",
        "\n",
        "print(cars)"
      ],
      "metadata": {
        "colab": {
          "base_uri": "https://localhost:8080/"
        },
        "id": "fucsLWSmHzN5",
        "outputId": "a7bc848a-aa95-4d90-96a4-b53502e55d0d"
      },
      "execution_count": 29,
      "outputs": [
        {
          "output_type": "stream",
          "name": "stdout",
          "text": [
            "['Toyota', 'Volvo', 'BMW']\n"
          ]
        }
      ]
    },
    {
      "cell_type": "code",
      "source": [
        "cars = [\"Ford\", \"Volvo\", \"BMW\"]\n",
        "\n",
        "x = len(cars)\n",
        "\n",
        "print(x)"
      ],
      "metadata": {
        "colab": {
          "base_uri": "https://localhost:8080/"
        },
        "id": "LUY8s8CcHzSC",
        "outputId": "0e3c4ef0-f895-4807-a18c-623ed28288a3"
      },
      "execution_count": 30,
      "outputs": [
        {
          "output_type": "stream",
          "name": "stdout",
          "text": [
            "3\n"
          ]
        }
      ]
    },
    {
      "cell_type": "code",
      "source": [
        "cars = [\"Ford\", \"Volvo\", \"BMW\"]\n",
        "\n",
        "for x in cars:\n",
        "  print(x)"
      ],
      "metadata": {
        "colab": {
          "base_uri": "https://localhost:8080/"
        },
        "id": "ntJpGafZHzWD",
        "outputId": "363a6eab-f95a-4b33-840c-49bfeefb654b"
      },
      "execution_count": 31,
      "outputs": [
        {
          "output_type": "stream",
          "name": "stdout",
          "text": [
            "Ford\n",
            "Volvo\n",
            "BMW\n"
          ]
        }
      ]
    },
    {
      "cell_type": "code",
      "source": [
        "cars = [\"Ford\", \"Volvo\", \"BMW\"]\n",
        "\n",
        "cars.append(\"Honda\")\n",
        "\n",
        "print(cars)"
      ],
      "metadata": {
        "colab": {
          "base_uri": "https://localhost:8080/"
        },
        "id": "SwC7-HpWHzaU",
        "outputId": "c445c7f7-32cd-43ca-a648-32a106ac5f71"
      },
      "execution_count": 32,
      "outputs": [
        {
          "output_type": "stream",
          "name": "stdout",
          "text": [
            "['Ford', 'Volvo', 'BMW', 'Honda']\n"
          ]
        }
      ]
    },
    {
      "cell_type": "code",
      "source": [
        "cars = [\"Ford\", \"Volvo\", \"BMW\"]\n",
        "\n",
        "cars.pop(1)\n",
        "\n",
        "print(cars)"
      ],
      "metadata": {
        "colab": {
          "base_uri": "https://localhost:8080/"
        },
        "id": "rdBkOmZbHzfD",
        "outputId": "2ed51a92-88df-4958-d7f4-ab51ed394cdc"
      },
      "execution_count": 33,
      "outputs": [
        {
          "output_type": "stream",
          "name": "stdout",
          "text": [
            "['Ford', 'BMW']\n"
          ]
        }
      ]
    },
    {
      "cell_type": "code",
      "source": [
        "cars = [\"Ford\", \"Volvo\", \"BMW\"]\n",
        "\n",
        "cars.remove(\"Volvo\")\n",
        "\n",
        "print(cars)"
      ],
      "metadata": {
        "colab": {
          "base_uri": "https://localhost:8080/"
        },
        "id": "HWZJx8xXHzjl",
        "outputId": "46a2ec45-be63-4f53-c2cb-f6ff39e6f094"
      },
      "execution_count": 34,
      "outputs": [
        {
          "output_type": "stream",
          "name": "stdout",
          "text": [
            "['Ford', 'BMW']\n"
          ]
        }
      ]
    },
    {
      "cell_type": "code",
      "source": [
        "#Classes\n",
        "class MyClass:\n",
        "  x = 5\n",
        "\n",
        "print(MyClass)"
      ],
      "metadata": {
        "id": "4FVCibA2Hzr9"
      },
      "execution_count": null,
      "outputs": []
    },
    {
      "cell_type": "code",
      "source": [
        "class MyClass:\n",
        "  x = 5\n",
        "\n",
        "p1 = MyClass()\n",
        "print(p1.x)"
      ],
      "metadata": {
        "colab": {
          "base_uri": "https://localhost:8080/"
        },
        "id": "LxNkL1Q4IuaA",
        "outputId": "a4342f9c-b007-4ea5-cb76-bb1e5302e3c1"
      },
      "execution_count": 35,
      "outputs": [
        {
          "output_type": "stream",
          "name": "stdout",
          "text": [
            "5\n"
          ]
        }
      ]
    },
    {
      "cell_type": "code",
      "source": [
        "class Person:\n",
        "  def __init__(self, name, age):\n",
        "    self.name = name\n",
        "    self.age = age\n",
        "\n",
        "p1 = Person(\"John\", 36)\n",
        "\n",
        "print(p1.name)\n",
        "print(p1.age)"
      ],
      "metadata": {
        "colab": {
          "base_uri": "https://localhost:8080/"
        },
        "id": "3wQR3evnIuiX",
        "outputId": "82bc7fe9-9154-47e8-cfe3-098f061a0140"
      },
      "execution_count": 36,
      "outputs": [
        {
          "output_type": "stream",
          "name": "stdout",
          "text": [
            "John\n",
            "36\n"
          ]
        }
      ]
    },
    {
      "cell_type": "code",
      "source": [
        "class Person:\n",
        "  def __init__(self, name, age):\n",
        "    self.name = name\n",
        "    self.age = age\n",
        "\n",
        "p1 = Person(\"John\", 36)\n",
        "\n",
        "print(p1)"
      ],
      "metadata": {
        "colab": {
          "base_uri": "https://localhost:8080/"
        },
        "id": "uk7wRit3Iupl",
        "outputId": "c963de52-51a4-4636-d830-77c5c4e470dc"
      },
      "execution_count": 37,
      "outputs": [
        {
          "output_type": "stream",
          "name": "stdout",
          "text": [
            "<__main__.Person object at 0x7cfd282792d0>\n"
          ]
        }
      ]
    },
    {
      "cell_type": "code",
      "source": [
        "class Person:\n",
        "  def __init__(self, name, age):\n",
        "    self.name = name\n",
        "    self.age = age\n",
        "\n",
        "  def __str__(self):\n",
        "    return f\"{self.name}({self.age})\"\n",
        "\n",
        "p1 = Person(\"John\", 36)\n",
        "\n",
        "print(p1)"
      ],
      "metadata": {
        "colab": {
          "base_uri": "https://localhost:8080/"
        },
        "id": "SAFJkZFqIuvh",
        "outputId": "bf737cfd-7d99-448f-a5e6-0d1b631d602b"
      },
      "execution_count": 38,
      "outputs": [
        {
          "output_type": "stream",
          "name": "stdout",
          "text": [
            "John(36)\n"
          ]
        }
      ]
    },
    {
      "cell_type": "code",
      "source": [
        "class Person:\n",
        "  def __init__(self, name, age):\n",
        "    self.name = name\n",
        "    self.age = age\n",
        "\n",
        "  def myfunc(self):\n",
        "    print(\"Hello my name is \" + self.name)\n",
        "\n",
        "p1 = Person(\"John\", 36)\n",
        "p1.myfunc()"
      ],
      "metadata": {
        "colab": {
          "base_uri": "https://localhost:8080/"
        },
        "id": "htMrxeypJDy2",
        "outputId": "8c8bdaba-b689-4704-fd6c-d5a07b77b141"
      },
      "execution_count": 39,
      "outputs": [
        {
          "output_type": "stream",
          "name": "stdout",
          "text": [
            "Hello my name is John\n"
          ]
        }
      ]
    },
    {
      "cell_type": "code",
      "source": [
        "class Person:\n",
        "  def __init__(mysillyobject, name, age):\n",
        "    mysillyobject.name = name\n",
        "    mysillyobject.age = age\n",
        "\n",
        "  def myfunc(abc):\n",
        "    print(\"Hello my name is \" + abc.name)\n",
        "\n",
        "p1 = Person(\"John\", 36)\n",
        "p1.myfunc()"
      ],
      "metadata": {
        "colab": {
          "base_uri": "https://localhost:8080/"
        },
        "id": "BW2QCZpcJD6N",
        "outputId": "42ec27d1-0011-4b81-9f5f-bc937ebcc168"
      },
      "execution_count": 41,
      "outputs": [
        {
          "output_type": "stream",
          "name": "stdout",
          "text": [
            "Hello my name is John\n"
          ]
        }
      ]
    },
    {
      "cell_type": "code",
      "source": [
        "class Person:\n",
        "  def __init__(self, name, age):\n",
        "    self.name = name\n",
        "    self.age = age\n",
        "\n",
        "  def myfunc(self):\n",
        "    print(\"Hello my name is \" + self.name)\n",
        "\n",
        "p1 = Person(\"John\", 36)\n",
        "\n",
        "p1.age = 40\n",
        "\n",
        "print(p1.age)"
      ],
      "metadata": {
        "colab": {
          "base_uri": "https://localhost:8080/"
        },
        "id": "CGM8bi-IJECN",
        "outputId": "00fa298b-5ad2-492f-e640-9f8c057690e0"
      },
      "execution_count": 42,
      "outputs": [
        {
          "output_type": "stream",
          "name": "stdout",
          "text": [
            "40\n"
          ]
        }
      ]
    },
    {
      "cell_type": "code",
      "source": [
        "class Person:\n",
        "  def __init__(self, name, age):\n",
        "    self.name = name\n",
        "    self.age = age\n",
        "\n",
        "  def myfunc(self):\n",
        "    print(\"Hello my name is \" + self.name)\n",
        "\n",
        "p1 = Person(\"John\", 36)\n",
        "\n",
        "del p1.age\n",
        "\n",
        "print(p1.age)"
      ],
      "metadata": {
        "id": "UHgS86aEJOT2"
      },
      "execution_count": null,
      "outputs": []
    },
    {
      "cell_type": "code",
      "source": [
        "class Person:\n",
        "  pass\n",
        "\n",
        "# having an empty class definition like this, would raise an error without the pass statement"
      ],
      "metadata": {
        "id": "afd3aIwVJkiN"
      },
      "execution_count": null,
      "outputs": []
    },
    {
      "cell_type": "code",
      "source": [
        "#Inheritance\n",
        "\n",
        "class Person:\n",
        "  def __init__(self, fname, lname):\n",
        "    self.firstname = fname\n",
        "    self.lastname = lname\n",
        "\n",
        "  def printname(self):\n",
        "    print(self.firstname, self.lastname)\n",
        "\n",
        "#Use the Person class to create an object, and then execute the printname method:\n",
        "\n",
        "x = Person(\"John\", \"Doe\")\n",
        "x.printname()"
      ],
      "metadata": {
        "colab": {
          "base_uri": "https://localhost:8080/"
        },
        "id": "ICmNTonwJkp-",
        "outputId": "aaed10ef-bd43-4d44-e05b-c04bcf788b80"
      },
      "execution_count": 44,
      "outputs": [
        {
          "output_type": "stream",
          "name": "stdout",
          "text": [
            "John Doe\n"
          ]
        }
      ]
    },
    {
      "cell_type": "code",
      "source": [
        "class Student(Person):\n",
        "  pass #Note: Use the pass keyword when you do not want to add any other properties or methods to the class."
      ],
      "metadata": {
        "id": "Sb3rC8LgJkv5"
      },
      "execution_count": 44,
      "outputs": []
    },
    {
      "cell_type": "code",
      "source": [
        "class Person:\n",
        "  def __init__(self, fname, lname):\n",
        "    self.firstname = fname\n",
        "    self.lastname = lname\n",
        "\n",
        "  def printname(self):\n",
        "    print(self.firstname, self.lastname)\n",
        "\n",
        "class Student(Person):\n",
        "  pass\n",
        "\n",
        "x = Student(\"Mike\", \"Olsen\")\n",
        "x.printname()"
      ],
      "metadata": {
        "colab": {
          "base_uri": "https://localhost:8080/"
        },
        "id": "1HHQGpcgJk1p",
        "outputId": "ba28f9e3-3c51-44c0-c0c9-06fbcd263203"
      },
      "execution_count": 45,
      "outputs": [
        {
          "output_type": "stream",
          "name": "stdout",
          "text": [
            "Mike Olsen\n"
          ]
        }
      ]
    },
    {
      "cell_type": "code",
      "source": [
        "class Person:\n",
        "  def __init__(self, fname, lname):\n",
        "    self.firstname = fname\n",
        "    self.lastname = lname\n",
        "\n",
        "  def printname(self):\n",
        "    print(self.firstname, self.lastname)\n",
        "\n",
        "class Student(Person):\n",
        "  def __init__(self, fname, lname):\n",
        "    Person.__init__(self, fname, lname)\n",
        "\n",
        "x = Student(\"Mike\", \"Olsen\")\n",
        "x.printname()"
      ],
      "metadata": {
        "colab": {
          "base_uri": "https://localhost:8080/"
        },
        "id": "jbNsj60BKQRq",
        "outputId": "f5703cfc-2018-4e31-8ff5-87a27cbc1299"
      },
      "execution_count": 46,
      "outputs": [
        {
          "output_type": "stream",
          "name": "stdout",
          "text": [
            "Mike Olsen\n"
          ]
        }
      ]
    },
    {
      "cell_type": "code",
      "source": [
        "class Person:\n",
        "  def __init__(self, fname, lname):\n",
        "    self.firstname = fname\n",
        "    self.lastname = lname\n",
        "\n",
        "  def printname(self):\n",
        "    print(self.firstname, self.lastname)\n",
        "\n",
        "class Student(Person):\n",
        "  def __init__(self, fname, lname):\n",
        "    super().__init__(fname, lname)\n",
        "    #super() function that will make the child class inherit all the methods and properties from its parent:\n",
        "\n",
        "x = Student(\"Mike\", \"Olsen\")\n",
        "x.printname()"
      ],
      "metadata": {
        "colab": {
          "base_uri": "https://localhost:8080/"
        },
        "id": "Ah4ytCZDKYYX",
        "outputId": "60c08192-2521-4aef-93d4-bc2a8e1a822a"
      },
      "execution_count": 47,
      "outputs": [
        {
          "output_type": "stream",
          "name": "stdout",
          "text": [
            "Mike Olsen\n"
          ]
        }
      ]
    },
    {
      "cell_type": "code",
      "source": [
        "class Person:\n",
        "  def __init__(self, fname, lname):\n",
        "    self.firstname = fname\n",
        "    self.lastname = lname\n",
        "\n",
        "  def printname(self):\n",
        "    print(self.firstname, self.lastname)\n",
        "\n",
        "class Student(Person):\n",
        "  def __init__(self, fname, lname):\n",
        "    super().__init__(fname, lname)\n",
        "    self.graduationyear = 2019 #add properties\n",
        "\n",
        "x = Student(\"Mike\", \"Olsen\")\n",
        "print(x.graduationyear)"
      ],
      "metadata": {
        "colab": {
          "base_uri": "https://localhost:8080/"
        },
        "id": "Fr2bl1-4KcOB",
        "outputId": "8f925da5-9342-4735-a98f-f1ea5d1bc407"
      },
      "execution_count": 48,
      "outputs": [
        {
          "output_type": "stream",
          "name": "stdout",
          "text": [
            "2019\n"
          ]
        }
      ]
    },
    {
      "cell_type": "code",
      "source": [
        "class Person:\n",
        "  def __init__(self, fname, lname):\n",
        "    self.firstname = fname\n",
        "    self.lastname = lname\n",
        "\n",
        "  def printname(self):\n",
        "    print(self.firstname, self.lastname)\n",
        "\n",
        "class Student(Person):\n",
        "  def __init__(self, fname, lname, year):\n",
        "    super().__init__(fname, lname)\n",
        "    self.graduationyear = year #Add a year parameter, and pass the correct year when creating objects\n",
        "\n",
        "x = Student(\"Mike\", \"Olsen\", 2019)\n",
        "print(x.graduationyear)"
      ],
      "metadata": {
        "colab": {
          "base_uri": "https://localhost:8080/"
        },
        "id": "BxTBz0nlKswL",
        "outputId": "8096a57b-0d1c-4b41-8289-ee8d474e25dc"
      },
      "execution_count": 49,
      "outputs": [
        {
          "output_type": "stream",
          "name": "stdout",
          "text": [
            "2019\n"
          ]
        }
      ]
    },
    {
      "cell_type": "code",
      "source": [
        "class Person:\n",
        "  def __init__(self, fname, lname):\n",
        "    self.firstname = fname\n",
        "    self.lastname = lname\n",
        "\n",
        "  def printname(self):\n",
        "    print(self.firstname, self.lastname)\n",
        "\n",
        "class Student(Person):\n",
        "  def __init__(self, fname, lname, year):\n",
        "    super().__init__(fname, lname)\n",
        "    self.graduationyear = year\n",
        "\n",
        "  def welcome(self): #Add a method called welcome to the Student class\n",
        "    print(\"Welcome\", self.firstname, self.lastname, \"to the class of\", self.graduationyear)\n",
        "\n",
        "x = Student(\"Mike\", \"Olsen\", 2024)\n",
        "x.welcome()"
      ],
      "metadata": {
        "colab": {
          "base_uri": "https://localhost:8080/"
        },
        "id": "a0scFhIoK1_5",
        "outputId": "c24ec685-073a-465e-add9-8da3d490a9bc"
      },
      "execution_count": 1,
      "outputs": [
        {
          "output_type": "stream",
          "name": "stdout",
          "text": [
            "Welcome Mike Olsen to the class of 2024\n"
          ]
        }
      ]
    },
    {
      "cell_type": "code",
      "source": [
        "#Classes and Objects"
      ],
      "metadata": {
        "id": "e1Hk-OL3VRgu"
      },
      "execution_count": 2,
      "outputs": []
    },
    {
      "cell_type": "code",
      "source": [
        "#1) Upper case\n",
        "class String:\n",
        "    def __init__(self):\n",
        "        self.text = \"\"\n",
        "\n",
        "    def getString(self):\n",
        "        self.text = input()\n",
        "\n",
        "    def printString(self):\n",
        "        print(self.text.upper())\n",
        "a = String()\n",
        "a.getString()\n",
        "a.printString()"
      ],
      "metadata": {
        "id": "YK5xf86QAFFi",
        "colab": {
          "base_uri": "https://localhost:8080/"
        },
        "outputId": "f7d19073-2634-4460-a0bf-a12b7f65bef6"
      },
      "execution_count": null,
      "outputs": [
        {
          "output_type": "stream",
          "name": "stdout",
          "text": [
            "beka\n",
            "BEKA\n"
          ]
        }
      ]
    },
    {
      "cell_type": "code",
      "source": [
        "#2) Area of the square\n",
        "class Shape:\n",
        "    def area(self):\n",
        "        return 0\n",
        "\n",
        "class Square(Shape):\n",
        "    def __init__(self):\n",
        "        self.length = int(input(\"Enter the length of the square: \"))\n",
        "\n",
        "    def area(self):\n",
        "        return self.length ** 2\n",
        "square = Square()\n",
        "print(\"The area of the square is:\", square.area())"
      ],
      "metadata": {
        "id": "kLK33pDHBfK5",
        "colab": {
          "base_uri": "https://localhost:8080/"
        },
        "outputId": "70fbc061-4583-4efb-d30e-89b5eb0d4410"
      },
      "execution_count": null,
      "outputs": [
        {
          "output_type": "stream",
          "name": "stdout",
          "text": [
            "Enter the length of the square: 6\n",
            "The area of the square is: 36\n"
          ]
        }
      ]
    },
    {
      "cell_type": "code",
      "source": [
        "#3) Area of the rectangle\n",
        "class Rectangle(Shape):\n",
        "    def __init__(self, length, width):\n",
        "        self.length = length\n",
        "        self.width = width\n",
        "\n",
        "    def area(self):\n",
        "        return self.length * self.width\n",
        "length = int(input(\"Enter the length of the rectangle: \"))\n",
        "width = int(input(\"Enter the width of the rectangle: \"))\n",
        "rectangle = Rectangle(length, width)\n",
        "print(\"The area of the rectangle is:\", rectangle.area())"
      ],
      "metadata": {
        "id": "5bls-HKABmoZ",
        "colab": {
          "base_uri": "https://localhost:8080/"
        },
        "outputId": "c2dda7ab-cbe4-4b02-84a7-89b941390e55"
      },
      "execution_count": null,
      "outputs": [
        {
          "output_type": "stream",
          "name": "stdout",
          "text": [
            "Enter the length of the rectangle: 5\n",
            "Enter the width of the rectangle: 4\n",
            "The area of the rectangle is: 20\n"
          ]
        }
      ]
    },
    {
      "cell_type": "code",
      "source": [
        "#4) Point operations\n",
        "import math\n",
        "class Point:\n",
        "    def __init__(self, x, y):\n",
        "        # Convert x and y to floats during initialization\n",
        "        self.x = int(x)\n",
        "        self.y = int(y)\n",
        "\n",
        "    def show(self):\n",
        "        print(f\"Point({self.x}, {self.y})\")\n",
        "\n",
        "    def move(self, new_x, new_y):\n",
        "        # Convert new_x and new_y to floats before assigning\n",
        "        self.x = int(new_x)\n",
        "        self.y = int(new_y)\n",
        "\n",
        "    def dist(self, other_point):\n",
        "        return math.sqrt((self.x - other_point.x) ** 2 + (self.y - other_point.y) ** 2)\n",
        "# Convert input values to floats before creating Point objects\n",
        "point1 = Point(int(input(\"Enter the x-coordinate of the first point: \")), int(input(\"Enter the y-coordinate of the first point: \")))\n",
        "point2 = Point(int(input(\"Enter the x-coordinate of the second point: \")), int(input(\"Enter the y-coordinate of the second point: \")))\n",
        "# Convert input values to floats before calling move\n",
        "point1.move(int(input(\"Enter the new x-coordinate of the first point: \")), int(input(\"Enter the new y-coordinate of the first point: \")))\n",
        "point1.show()\n",
        "point1.dist(point2)"
      ],
      "metadata": {
        "id": "quD8bL0oMbH0",
        "colab": {
          "base_uri": "https://localhost:8080/"
        },
        "outputId": "f225a2e0-6072-4b6f-e683-1a955ea3b24e"
      },
      "execution_count": null,
      "outputs": [
        {
          "output_type": "stream",
          "name": "stdout",
          "text": [
            "Enter the x-coordinate of the first point: 1\n",
            "Enter the y-coordinate of the first point: 1\n",
            "Enter the x-coordinate of the second point: 2\n",
            "Enter the y-coordinate of the second point: 2\n",
            "Enter the new x-coordinate of the first point: 2\n",
            "Enter the new y-coordinate of the first point: 1\n",
            "Point(2, 1)\n"
          ]
        },
        {
          "output_type": "execute_result",
          "data": {
            "text/plain": [
              "1.0"
            ]
          },
          "metadata": {},
          "execution_count": 14
        }
      ]
    },
    {
      "cell_type": "code",
      "source": [
        "#5) class Account:\n",
        "    def __init__(self, owner, balance=0):\n",
        "        self.owner = owner\n",
        "        self.balance = balance\n",
        "\n",
        "    def deposit(self, amount):\n",
        "        if amount > 0:\n",
        "            self.balance += amount\n",
        "            print(f\"Deposited ${amount}. New balance: ${self.balance}\")\n",
        "        else:\n",
        "            print(\"Deposit amount must be positive.\")\n",
        "\n",
        "    def withdraw(self, amount):\n",
        "        if amount > 0:\n",
        "            if amount <= self.balance:\n",
        "                self.balance -= amount\n",
        "                print(f\"Withdrew ${amount}. New balance: ${self.balance}\")\n",
        "            else:\n",
        "                print(\"Insufficient funds!\")\n",
        "        else:\n",
        "            print(\"Withdrawal amount must be positive.\")\n",
        "\n",
        "\n",
        "# Test the Account class\n",
        "my_account = Account(\"John Doe\", 1000)  # Initial balance $1000\n",
        "my_account.deposit(500)  # Deposit $500\n",
        "my_account.withdraw(200)  # Withdraw $200\n",
        "my_account.withdraw(1500) # Try to withdraw $1500 (overdraft)\n",
        "my_account.withdraw(-100) # Try to withdraw negative amount\n",
        "my_account.deposit(-50)  # Try to deposit negative amount\n",
        "print(f\"Final balance: ${my_account.balance}\")"
      ],
      "metadata": {
        "colab": {
          "base_uri": "https://localhost:8080/"
        },
        "id": "CyU-Gz1DKboB",
        "outputId": "8ed13bb3-445e-4c17-af8c-4ba62b22e72b"
      },
      "execution_count": null,
      "outputs": [
        {
          "output_type": "stream",
          "name": "stdout",
          "text": [
            "Deposited $500. New balance: $1500\n",
            "Withdrew $200. New balance: $1300\n",
            "Insufficient funds!\n",
            "Withdrawal amount must be positive.\n",
            "Deposit amount must be positive.\n",
            "Final balance: $1300\n"
          ]
        }
      ]
    },
    {
      "cell_type": "code",
      "source": [
        "#6) Filtering prime numbers from list\n",
        "def is_prime(num):\n",
        "    if num <= 1:\n",
        "        return False\n",
        "    for i in range(2, int(num**0.5) + 1):\n",
        "        if num % i == 0:\n",
        "            return False\n",
        "    return True\n",
        "\n",
        "numbers = [2, 3, 4, 5, 6, 7, 8, 9, 10, 11, 12, 13,17, 19, 23, 29]\n",
        "\n",
        "prime_numbers = list(filter(lambda x: is_prime(x), numbers)) # Using is_prime function\n",
        "print(\"Prime numbers:\", prime_numbers)"
      ],
      "metadata": {
        "colab": {
          "base_uri": "https://localhost:8080/"
        },
        "id": "rIYVjq2qMInl",
        "outputId": "28a9f180-43a4-40ee-da92-8779895c67ae"
      },
      "execution_count": null,
      "outputs": [
        {
          "output_type": "stream",
          "name": "stdout",
          "text": [
            "Prime numbers: [2, 3, 5, 7, 11, 13, 17, 19, 23, 29]\n"
          ]
        }
      ]
    },
    {
      "cell_type": "code",
      "source": [
        "#Functions 1"
      ],
      "metadata": {
        "id": "shL3AjinV5HN"
      },
      "execution_count": 3,
      "outputs": []
    },
    {
      "cell_type": "code",
      "source": [
        "#1) Grams into ounces\n",
        "import random\n",
        "def grams_to_ounces(grams):\n",
        "    ounces = 0.03527396 * grams  # Corrected conversion factor\n",
        "    return ounces\n",
        "ounces = grams_to_ounces(int(input(\"Enter the weight in grams: \")))\n",
        "print(\"The weight in ounces is:\", ounces)"
      ],
      "metadata": {
        "colab": {
          "base_uri": "https://localhost:8080/"
        },
        "id": "XD8BChAHQDvO",
        "outputId": "5fc35b68-d94f-482f-9e91-65ab7809026d"
      },
      "execution_count": null,
      "outputs": [
        {
          "output_type": "stream",
          "name": "stdout",
          "text": [
            "Enter the weight in grams: 100\n",
            "The weight in ounces is: 3.527396\n"
          ]
        }
      ]
    },
    {
      "cell_type": "code",
      "source": [
        "#2) Fahrenheit into celcius\n",
        "def fahrenheit_to_celsius(fahrenheit):\n",
        "    celsius = (5 / 9) * (fahrenheit - 32)\n",
        "    return celsius\n",
        "degree = fahrenheit_to_celsius(int(input(\"Enter the temperature in Fahrenheit: \")))\n",
        "print(\"The temperature in Celsius is:\", degree)"
      ],
      "metadata": {
        "colab": {
          "base_uri": "https://localhost:8080/"
        },
        "id": "KI03BwsqQFN4",
        "outputId": "b7242564-69af-4a6d-8e97-bf61bd755549"
      },
      "execution_count": null,
      "outputs": [
        {
          "output_type": "stream",
          "name": "stdout",
          "text": [
            "Enter the temperature in Fahrenheit: 154\n",
            "The temperature in Celsius is: 67.77777777777779\n"
          ]
        }
      ]
    },
    {
      "cell_type": "code",
      "source": [
        "#3) Counting chiskens and rabits\n",
        "def solve(numheads, numlegs):\n",
        "    for rabbits in range(numheads + 1):\n",
        "        chickens = numheads - rabbits\n",
        "        if (4 * rabbits + 2 * chickens) == numlegs:\n",
        "            return chickens, rabbits\n",
        "    return \"No solution found\"\n",
        "count = solve(int(input(\"Enter the number of heads: \")), int(input(\"Enter the number of legs: \")))\n",
        "print(\"Number of chickens:\", count[0])\n",
        "print(\"Number of rabbits:\", count[1])"
      ],
      "metadata": {
        "colab": {
          "base_uri": "https://localhost:8080/"
        },
        "id": "YAyLxYXjQhxU",
        "outputId": "02c1c7fc-86bb-45c4-de4d-a2a81c0bb71b"
      },
      "execution_count": null,
      "outputs": [
        {
          "output_type": "stream",
          "name": "stdout",
          "text": [
            "Enter the number of heads: 35\n",
            "Enter the number of legs: 94\n",
            "Number of chickens: 23\n",
            "Number of rabbits: 12\n"
          ]
        }
      ]
    },
    {
      "cell_type": "code",
      "source": [
        "#4) Filtering prime numbers\n",
        "def filter_prime(numbers):\n",
        "    def is_prime(num):\n",
        "        if num <= 1:\n",
        "            return False\n",
        "        for i in range(2, int(num**0.5) + 1):\n",
        "            if num % i == 0:\n",
        "                return False\n",
        "        return True\n",
        "    return list(filter(is_prime, numbers))\n",
        "list = filter_prime([2, 3, 4, 5, 6, 7, 8, 9, 10, 11, 12, 13,17, 19, 23, 29])\n",
        "print(list)"
      ],
      "metadata": {
        "colab": {
          "base_uri": "https://localhost:8080/"
        },
        "id": "YGSYsPh5RFyX",
        "outputId": "5db577dd-0256-41bb-cdea-75bfc8d919d1"
      },
      "execution_count": null,
      "outputs": [
        {
          "output_type": "stream",
          "name": "stdout",
          "text": [
            "[2, 3, 5, 7, 11, 13, 17, 19, 23, 29]\n"
          ]
        }
      ]
    },
    {
      "cell_type": "code",
      "source": [
        "#5) All possible permutations of string\n",
        "def string_permutations(string):\n",
        "    import itertools\n",
        "    for permutation in itertools.permutations(string):\n",
        "        print(\"\".join(permutation))\n",
        "string = string_permutations(input(\"Enter a string: \"))"
      ],
      "metadata": {
        "colab": {
          "base_uri": "https://localhost:8080/"
        },
        "id": "S09FSy2pRM4L",
        "outputId": "459ab57d-3cc6-4a2c-8410-7137f9068155"
      },
      "execution_count": null,
      "outputs": [
        {
          "output_type": "stream",
          "name": "stdout",
          "text": [
            "Enter a string: Bek\n",
            "Bek\n",
            "Bke\n",
            "eBk\n",
            "ekB\n",
            "kBe\n",
            "keB\n"
          ]
        }
      ]
    },
    {
      "cell_type": "code",
      "source": [
        "#6) Reversing the order in sentence\n",
        "def reverse_sentence(sentence):\n",
        "    words = sentence.split()\n",
        "    return \" \".join(words[::-1])\n",
        "sentence = reverse_sentence(input(\"Enter a sentence: \"))\n",
        "print(sentence)"
      ],
      "metadata": {
        "colab": {
          "base_uri": "https://localhost:8080/"
        },
        "id": "G1mZerR-Rt4b",
        "outputId": "e4e99f01-00af-4716-a019-4701ce004676"
      },
      "execution_count": null,
      "outputs": [
        {
          "output_type": "stream",
          "name": "stdout",
          "text": [
            "Enter a sentence: I am doing the lab3\n",
            "lab3 the doing am I\n"
          ]
        }
      ]
    },
    {
      "cell_type": "code",
      "source": [
        "#7) 3 next to 3\n",
        "def has_33(nums):\n",
        "    for i in range(len(nums) - 1):\n",
        "        if nums[i] == 3 and nums[i+1] == 3:\n",
        "            return True\n",
        "    return False\n",
        "# Get input as a string\n",
        "input_string = input(\"Enter the list of numbers: \")\n",
        "# Split the string into a list of numbers\n",
        "nums = [int(num) for num in input_string.split()]  # Convert each element to int\n",
        "list1 = has_33(nums)  # Now call has_33 with the list of numbers\n",
        "print(list1)  # Print the result"
      ],
      "metadata": {
        "colab": {
          "base_uri": "https://localhost:8080/"
        },
        "id": "JPn3L4jBR-se",
        "outputId": "1502835e-c295-4dd5-eec4-0992bad77dab"
      },
      "execution_count": null,
      "outputs": [
        {
          "output_type": "stream",
          "name": "stdout",
          "text": [
            "Enter the list of numbers: 1 8 5 3 3 5\n",
            "True\n"
          ]
        }
      ]
    },
    {
      "cell_type": "code",
      "source": [
        "#8) Agent 007\n",
        "def spy_game(nums):\n",
        "    found_0s = 0\n",
        "    for num in nums:\n",
        "        if num == 0:\n",
        "            found_0s += 1\n",
        "        elif num == 7 and found_0s >= 2:\n",
        "            return True\n",
        "    return False\n",
        "list2 = {spy_game([1,2,4,0,0,7,5])}\n",
        "print(list2)"
      ],
      "metadata": {
        "colab": {
          "base_uri": "https://localhost:8080/"
        },
        "id": "BX05Sz90SXu3",
        "outputId": "62ea7ffb-4c00-4b9f-9245-b9c238860547"
      },
      "execution_count": null,
      "outputs": [
        {
          "output_type": "stream",
          "name": "stdout",
          "text": [
            "{True}\n"
          ]
        }
      ]
    },
    {
      "cell_type": "code",
      "source": [
        "#9) Volume of the sphere\n",
        "def sphere_volume(radius):\n",
        "    import math\n",
        "    return (4/3) * math.pi * radius**3\n",
        "volume = sphere_volume(int(input(\"Enter the radius of the sphere: \")))\n",
        "print(\"The volume of the sphere is:\", volume)"
      ],
      "metadata": {
        "colab": {
          "base_uri": "https://localhost:8080/"
        },
        "id": "4VZ_E8s1S9Bo",
        "outputId": "a29d3808-6753-4687-8164-8e175f09e08e"
      },
      "execution_count": null,
      "outputs": [
        {
          "output_type": "stream",
          "name": "stdout",
          "text": [
            "Enter the radius of the sphere: 5\n",
            "The volume of the sphere is: 523.5987755982989\n"
          ]
        }
      ]
    },
    {
      "cell_type": "code",
      "source": [
        "#10) Unique elements in list\n",
        "def unique_list(input_list):\n",
        "    new_list = []\n",
        "    for item in input_list:\n",
        "        if item not in new_list:\n",
        "            new_list.append(item)\n",
        "    return new_list\n",
        "list3 = unique_list([1,1,1,1,2,2,3,3,3,3,4,5])\n",
        "print(list3)"
      ],
      "metadata": {
        "colab": {
          "base_uri": "https://localhost:8080/"
        },
        "id": "xnpaLrKxTIJN",
        "outputId": "18bac8ce-2218-4078-f4ce-81835fe33dcf"
      },
      "execution_count": null,
      "outputs": [
        {
          "output_type": "stream",
          "name": "stdout",
          "text": [
            "[1, 2, 3, 4, 5]\n"
          ]
        }
      ]
    },
    {
      "cell_type": "code",
      "source": [
        "#11) Palindrome or not?\n",
        "def is_palindrome(text):\n",
        "    processed_text = \"\".join(char.lower() for char in text if char.isalnum())  # Remove non-alphanumeric chars and lowercase\n",
        "    return processed_text == processed_text[::-1]\n",
        "number = is_palindrome(input(\"Enter a string: \"))\n",
        "print(number)"
      ],
      "metadata": {
        "colab": {
          "base_uri": "https://localhost:8080/"
        },
        "id": "0abTgJAlTTSh",
        "outputId": "355dcc38-87d0-44e4-9aff-e4dd3605ff8a"
      },
      "execution_count": null,
      "outputs": [
        {
          "output_type": "stream",
          "name": "stdout",
          "text": [
            "Enter a string: 1551\n",
            "True\n"
          ]
        }
      ]
    },
    {
      "cell_type": "code",
      "source": [
        "#12) Numbers to points\n",
        "def histogram(integers):\n",
        "    for num in integers:\n",
        "        print(\"*\" * num)\n",
        "number = histogram([2, 3, 6, 5])"
      ],
      "metadata": {
        "colab": {
          "base_uri": "https://localhost:8080/"
        },
        "id": "tdjsPDwdTbiR",
        "outputId": "53951eba-cd89-4284-d947-68dd1934c45a"
      },
      "execution_count": null,
      "outputs": [
        {
          "output_type": "stream",
          "name": "stdout",
          "text": [
            "**\n",
            "***\n",
            "******\n",
            "*****\n"
          ]
        }
      ]
    },
    {
      "cell_type": "code",
      "source": [
        "#13) Game Guess the number\n",
        "def guess_the_number():\n",
        "    secret_number = random.randint(1, 20)\n",
        "    guesses_taken = 0\n",
        "\n",
        "    name = input(\"Hello! What is your name?\\n\")\n",
        "    print(f\"Well, {name}, I am thinking of a number between 1 and 20.\")\n",
        "\n",
        "    while True:\n",
        "        try:\n",
        "            guess = int(input(\"Take a guess.\\n\"))\n",
        "            guesses_taken += 1\n",
        "\n",
        "            if guess < secret_number:\n",
        "                print(\"Your guess is too low.\")\n",
        "            elif guess > secret_number:\n",
        "                print(\"Your guess is too high.\")\n",
        "            else:\n",
        "                print(f\"Good job, {name}! You guessed my number in {guesses_taken} guesses!\")\n",
        "                break\n",
        "        except ValueError:\n",
        "            print(\"Invalid input. Please enter a number.\")\n",
        "guess = guess_the_number()"
      ],
      "metadata": {
        "colab": {
          "base_uri": "https://localhost:8080/"
        },
        "id": "7qOycX-gTeFo",
        "outputId": "2db3ed2d-7bc5-416c-8990-37ae6f899b3f"
      },
      "execution_count": null,
      "outputs": [
        {
          "output_type": "stream",
          "name": "stdout",
          "text": [
            "Hello! What is your name?\n",
            "Beka\n",
            "Well, Beka, I am thinking of a number between 1 and 20.\n",
            "Take a guess.\n",
            "15\n",
            "Your guess is too high.\n",
            "Take a guess.\n",
            "5\n",
            "Your guess is too low.\n",
            "Take a guess.\n",
            "10\n",
            "Your guess is too low.\n",
            "Take a guess.\n",
            "13\n",
            "Good job, Beka! You guessed my number in 4 guesses!\n"
          ]
        }
      ]
    },
    {
      "cell_type": "code",
      "source": [
        "#Functions 2"
      ],
      "metadata": {
        "id": "0gOx9aFDT3pm"
      },
      "execution_count": null,
      "outputs": []
    },
    {
      "cell_type": "code",
      "source": [
        "movies = [\n",
        "    {\"name\": \"Usual Suspects\", \"imdb\": 7.0, \"category\": \"Thriller\"},\n",
        "    {\"name\": \"Hitman\", \"imdb\": 6.3, \"category\": \"Action\"},\n",
        "    {\"name\": \"Dark Knight\", \"imdb\": 9.0, \"category\": \"Adventure\"},\n",
        "    {\"name\": \"The Help\", \"imdb\": 8.0, \"category\": \"Drama\"},\n",
        "    {\"name\": \"The Choice\", \"imdb\": 6.2, \"category\": \"Romance\"},\n",
        "    {\"name\": \"Colonia\", \"imdb\": 7.4, \"category\": \"Romance\"},\n",
        "    {\"name\": \"Love\", \"imdb\": 6.0, \"category\": \"Romance\"},\n",
        "    {\"name\": \"Bride Wars\", \"imdb\": 5.4, \"category\": \"Romance\"},\n",
        "    {\"name\": \"AlphaJet\", \"imdb\": 3.2, \"category\": \"War\"},\n",
        "    {\"name\": \"Ringing Crime\", \"imdb\": 4.0, \"category\": \"Crime\"},\n",
        "    {\"name\": \"Joking muck\", \"imdb\": 7.2, \"category\": \"Comedy\"},\n",
        "    {\"name\": \"What is the name\", \"imdb\": 9.2, \"category\": \"Suspense\"},\n",
        "    {\"name\": \"Detective\", \"imdb\": 7.0, \"category\": \"Suspense\"},\n",
        "    {\"name\": \"Exam\", \"imdb\": 4.2, \"category\": \"Thriller\"},\n",
        "    {\"name\": \"We Two\", \"imdb\": 7.2, \"category\": \"Romance\"}\n",
        "]\n",
        "\n",
        "def is_above_5_5(movie):\n",
        "    return movie[\"imdb\"] > 5.5\n",
        "\n",
        "def movies_above_5_5(movie_list):\n",
        "    return [movie for movie in movie_list if is_above_5_5(movie)]\n",
        "\n",
        "def movies_in_category(movie_list, category):\n",
        "    return [movie for movie in movie_list if movie[\"category\"] == category]\n",
        "\n",
        "def average_imdb_score(movie_list):\n",
        "    if not movie_list:  # Handle empty list to avoid ZeroDivisionError\n",
        "        return 0\n",
        "    imdb_scores = [movie[\"imdb\"] for movie in movie_list]\n",
        "    return sum(imdb_scores) / len(imdb_scores)\n",
        "\n",
        "def average_imdb_in_category(movie_list, category):\n",
        "    category_movies = movies_in_category(movie_list, category)\n",
        "    return average_imdb_score(category_movies)  # Reuse the average_imdb_score function\n",
        "\n",
        "\n",
        "# Example usage:\n",
        "movie1 = movies[0]\n",
        "print(f\"1) Is '{movie1['name']}' above 5.5? {is_above_5_5(movie1)}\")\n",
        "\n",
        "high_rated_movies = movies_above_5_5(movies)\n",
        "print(\"\\n2) Movies with IMDB above 5.5:\")\n",
        "for movie in high_rated_movies:\n",
        "    print(f\"- {movie['name']} ({movie['imdb']})\")\n",
        "\n",
        "romance_movies = movies_in_category(movies, \"Romance\")\n",
        "print(\"\\n3) Romance Movies:\")\n",
        "for movie in romance_movies:\n",
        "    print(f\"- {movie['name']} ({movie['imdb']})\")\n",
        "\n",
        "average_score = average_imdb_score(movies)\n",
        "print(f\"\\n4) Average IMDB score of all movies: {average_score:.2f}\")\n",
        "\n",
        "average_romance_score = average_imdb_in_category(movies, \"Romance\")\n",
        "print(f\"5) Average IMDB score of Romance movies: {average_romance_score:.2f}\")"
      ],
      "metadata": {
        "colab": {
          "base_uri": "https://localhost:8080/"
        },
        "id": "4Q2cFeK3UHgC",
        "outputId": "cc91f1d0-1a35-4ecd-bfaf-89b0a53cf2b8"
      },
      "execution_count": null,
      "outputs": [
        {
          "output_type": "stream",
          "name": "stdout",
          "text": [
            "1) Is 'Usual Suspects' above 5.5? True\n",
            "\n",
            "2) Movies with IMDB above 5.5:\n",
            "- Usual Suspects (7.0)\n",
            "- Hitman (6.3)\n",
            "- Dark Knight (9.0)\n",
            "- The Help (8.0)\n",
            "- The Choice (6.2)\n",
            "- Colonia (7.4)\n",
            "- Love (6.0)\n",
            "- Joking muck (7.2)\n",
            "- What is the name (9.2)\n",
            "- Detective (7.0)\n",
            "- We Two (7.2)\n",
            "\n",
            "3) Romance Movies:\n",
            "- The Choice (6.2)\n",
            "- Colonia (7.4)\n",
            "- Love (6.0)\n",
            "- Bride Wars (5.4)\n",
            "- We Two (7.2)\n",
            "\n",
            "4) Average IMDB score of all movies: 6.49\n",
            "5) Average IMDB score of Romance movies: 6.44\n"
          ]
        }
      ]
    }
  ]
}