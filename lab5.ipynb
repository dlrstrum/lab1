{
  "nbformat": 4,
  "nbformat_minor": 0,
  "metadata": {
    "colab": {
      "provenance": [],
      "authorship_tag": "ABX9TyNoJZtAdIZEOfJXwXi5/Tv2",
      "include_colab_link": true
    },
    "kernelspec": {
      "name": "python3",
      "display_name": "Python 3"
    },
    "language_info": {
      "name": "python"
    }
  },
  "cells": [
    {
      "cell_type": "markdown",
      "metadata": {
        "id": "view-in-github",
        "colab_type": "text"
      },
      "source": [
        "<a href=\"https://colab.research.google.com/github/dlrstrum/labs/blob/main/lab5.ipynb\" target=\"_parent\"><img src=\"https://colab.research.google.com/assets/colab-badge.svg\" alt=\"Open In Colab\"/></a>"
      ]
    },
    {
      "cell_type": "code",
      "execution_count": 1,
      "metadata": {
        "id": "u0Ie6TwKQw-b"
      },
      "outputs": [],
      "source": [
        "import re"
      ]
    },
    {
      "cell_type": "code",
      "source": [
        "# 1. 'a' followed by zero or more 'b's\n",
        "def match_a_zero_or_more_bs(string):\n",
        "    pattern = r\"ab*\"\n",
        "    return bool(re.fullmatch(pattern, string))\n",
        "print(match_a_zero_or_more_bs(\"abbbb\"))"
      ],
      "metadata": {
        "colab": {
          "base_uri": "https://localhost:8080/"
        },
        "id": "ULIQs0J0RF06",
        "outputId": "f88fe2d6-4ab5-473b-bfd0-e726597cd90a"
      },
      "execution_count": 2,
      "outputs": [
        {
          "output_type": "stream",
          "name": "stdout",
          "text": [
            "True\n"
          ]
        }
      ]
    },
    {
      "cell_type": "code",
      "source": [
        "# 2. 'a' followed by two to three 'b's\n",
        "def match_a_two_to_three_bs(string):\n",
        "    pattern = r\"ab{2,3}\"\n",
        "    return bool(re.fullmatch(pattern, string))\n",
        "print(match_a_two_to_three_bs(\"abb\"))"
      ],
      "metadata": {
        "colab": {
          "base_uri": "https://localhost:8080/"
        },
        "id": "8lRgn2g1RK14",
        "outputId": "0f2b963e-24b8-43d6-ef9a-f820347a9d6a"
      },
      "execution_count": 3,
      "outputs": [
        {
          "output_type": "stream",
          "name": "stdout",
          "text": [
            "True\n"
          ]
        }
      ]
    },
    {
      "cell_type": "code",
      "source": [
        "# 3. Sequences of lowercase letters joined with an underscore\n",
        "def find_lowercase_underscore(string):\n",
        "    pattern = r\"[a-z]+_[a-z]+\"\n",
        "    return re.findall(pattern, string)\n",
        "print(find_lowercase_underscore(\"hello_world_python\"))"
      ],
      "metadata": {
        "colab": {
          "base_uri": "https://localhost:8080/"
        },
        "id": "pp3Hy2z1RQDx",
        "outputId": "c47a6d62-310d-4378-fb1d-a2159ef3d344"
      },
      "execution_count": 4,
      "outputs": [
        {
          "output_type": "stream",
          "name": "stdout",
          "text": [
            "['hello_world']\n"
          ]
        }
      ]
    },
    {
      "cell_type": "code",
      "source": [
        "# 4. Sequences of one uppercase letter followed by lowercase letters\n",
        "def find_uppercase_lowercase(string):\n",
        "    pattern = r\"[A-Z][a-z]+\"\n",
        "    return re.findall(pattern, string)\n",
        "print(find_uppercase_lowercase(\"HelloWorld\"))"
      ],
      "metadata": {
        "colab": {
          "base_uri": "https://localhost:8080/"
        },
        "id": "y0dqg1fIRTkt",
        "outputId": "bda42690-ba46-449b-edf0-5b2410715a62"
      },
      "execution_count": 5,
      "outputs": [
        {
          "output_type": "stream",
          "name": "stdout",
          "text": [
            "['Hello', 'World']\n"
          ]
        }
      ]
    },
    {
      "cell_type": "code",
      "source": [
        "# 5. 'a' followed by anything, ending in 'b'\n",
        "def match_a_anything_ending_b(string):\n",
        "    pattern = r\"a.*b\"  # .* matches anything (zero or more occurrences)\n",
        "    return bool(re.fullmatch(pattern, string)) #re.fullmatch ensures the *entire* string matches\n",
        "print(match_a_anything_ending_b(\"axyzb\"))"
      ],
      "metadata": {
        "colab": {
          "base_uri": "https://localhost:8080/"
        },
        "id": "nGnrA0YHRXMN",
        "outputId": "dd56c93c-66b0-4fe5-f9c5-9bbcb610d7a3"
      },
      "execution_count": 6,
      "outputs": [
        {
          "output_type": "stream",
          "name": "stdout",
          "text": [
            "True\n"
          ]
        }
      ]
    },
    {
      "cell_type": "code",
      "source": [
        "# 6. Replace space, comma, or dot with a colon\n",
        "def replace_with_colon(string):\n",
        "    pattern = r\"[ ,.]\"\n",
        "    return re.sub(pattern, \":\", string)\n",
        "\n",
        "print(replace_with_colon(\"This is a test, string. \"))"
      ],
      "metadata": {
        "colab": {
          "base_uri": "https://localhost:8080/"
        },
        "id": "iTNuDwLDRctL",
        "outputId": "fbc95d69-b38c-4ab4-d891-a252d7275f03"
      },
      "execution_count": 7,
      "outputs": [
        {
          "output_type": "stream",
          "name": "stdout",
          "text": [
            "This:is:a:test::string::\n"
          ]
        }
      ]
    },
    {
      "cell_type": "code",
      "source": [
        "# 7. Convert snake case to camel case\n",
        "def snake_to_camel(string):\n",
        "    parts = string.split('_')\n",
        "    camel_case = parts[0] + \"\".join(word.capitalize() for word in parts[1:])\n",
        "    return camel_case\n",
        "\n",
        "print(snake_to_camel(\"snake_case_string\"))"
      ],
      "metadata": {
        "colab": {
          "base_uri": "https://localhost:8080/"
        },
        "id": "lUdv6ullRuSP",
        "outputId": "60af3bae-ad56-4e86-ed1d-a0f42097a8b0"
      },
      "execution_count": 8,
      "outputs": [
        {
          "output_type": "stream",
          "name": "stdout",
          "text": [
            "snakeCaseString\n"
          ]
        }
      ]
    },
    {
      "cell_type": "code",
      "source": [
        "# 8. Split a string at uppercase letters\n",
        "def split_at_uppercase(string):\n",
        "    return re.split(r\"(?=[A-Z])\", string)  # Positive lookahead assertion\n",
        "\n",
        "print(split_at_uppercase(\"OneTwoThree\"))"
      ],
      "metadata": {
        "colab": {
          "base_uri": "https://localhost:8080/"
        },
        "id": "dIrh0HVdRvya",
        "outputId": "f1bff7b5-2157-459f-c3f3-d5996de035e2"
      },
      "execution_count": 9,
      "outputs": [
        {
          "output_type": "stream",
          "name": "stdout",
          "text": [
            "['', 'One', 'Two', 'Three']\n"
          ]
        }
      ]
    },
    {
      "cell_type": "code",
      "source": [
        "# 9. Insert spaces between words starting with capital letters\n",
        "def insert_spaces_before_uppercase(string):\n",
        "    return re.sub(r\"(?=[A-Z])\", \" \", string).strip()  # Positive lookahead assertion, strip to remove leading space\n",
        "\n",
        "print(insert_spaces_before_uppercase(\"OneTwoThree\"))"
      ],
      "metadata": {
        "colab": {
          "base_uri": "https://localhost:8080/"
        },
        "id": "XZ4SjQRHRxKG",
        "outputId": "c24c5d11-95d2-4dc8-9d90-3e2be685f523"
      },
      "execution_count": 10,
      "outputs": [
        {
          "output_type": "stream",
          "name": "stdout",
          "text": [
            "One Two Three\n"
          ]
        }
      ]
    },
    {
      "cell_type": "code",
      "source": [
        "# 10. Convert camel case to snake case\n",
        "def camel_to_snake(string):\n",
        "    snake_case = re.sub(r\"(?<!^)(?=[A-Z])\", \"_\", string).lower()  # Negative lookbehind assertion and positive lookahead\n",
        "    return snake_case\n",
        "\n",
        "print(camel_to_snake(\"camelCaseString\"))"
      ],
      "metadata": {
        "colab": {
          "base_uri": "https://localhost:8080/"
        },
        "id": "MuKfAFPfRyjq",
        "outputId": "94242df2-857a-4941-f992-6c1d1b3bbd8b"
      },
      "execution_count": 11,
      "outputs": [
        {
          "output_type": "stream",
          "name": "stdout",
          "text": [
            "camel_case_string\n"
          ]
        }
      ]
    }
  ]
}