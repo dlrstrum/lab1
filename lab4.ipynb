{
  "nbformat": 4,
  "nbformat_minor": 0,
  "metadata": {
    "colab": {
      "provenance": [],
      "authorship_tag": "ABX9TyMsGP0Qh1FBFpGRZmA6akPQ",
      "include_colab_link": true
    },
    "kernelspec": {
      "name": "python3",
      "display_name": "Python 3"
    },
    "language_info": {
      "name": "python"
    }
  },
  "cells": [
    {
      "cell_type": "markdown",
      "metadata": {
        "id": "view-in-github",
        "colab_type": "text"
      },
      "source": [
        "<a href=\"https://colab.research.google.com/github/dlrstrum/labs/blob/main/lab4.ipynb\" target=\"_parent\"><img src=\"https://colab.research.google.com/assets/colab-badge.svg\" alt=\"Open In Colab\"/></a>"
      ]
    },
    {
      "cell_type": "code",
      "execution_count": null,
      "metadata": {
        "id": "bYwXTtYHVjl_"
      },
      "outputs": [],
      "source": [
        "#Python Iterators\n",
        "\"\"\"Lists, tuples, dictionaries, and sets are all iterable objects. They are iterable containers which you can get an iterator from.\n",
        "\n",
        "All these objects have a iter() method which is used to get an iterator:\"\"\""
      ]
    },
    {
      "cell_type": "code",
      "source": [
        "mytuple = (\"apple\", \"banana\", \"cherry\")\n",
        "myit = iter(mytuple)\n",
        "\n",
        "print(next(myit))\n",
        "print(next(myit))\n",
        "print(next(myit))"
      ],
      "metadata": {
        "colab": {
          "base_uri": "https://localhost:8080/"
        },
        "id": "MWOdIkCVV8IN",
        "outputId": "77d20165-58cd-41a8-8d1f-ba26c46c36a3"
      },
      "execution_count": null,
      "outputs": [
        {
          "output_type": "stream",
          "name": "stdout",
          "text": [
            "apple\n",
            "banana\n",
            "cherry\n"
          ]
        }
      ]
    },
    {
      "cell_type": "code",
      "source": [
        "mystr = \"banana\"\n",
        "myit = iter(mystr)\n",
        "\n",
        "print(next(myit))\n",
        "print(next(myit))\n",
        "print(next(myit))\n",
        "print(next(myit))\n",
        "print(next(myit))\n",
        "print(next(myit))"
      ],
      "metadata": {
        "colab": {
          "base_uri": "https://localhost:8080/"
        },
        "id": "jF-S15agWETQ",
        "outputId": "3b29904a-4e6b-4c12-ba81-cf1768cfa8ac"
      },
      "execution_count": null,
      "outputs": [
        {
          "output_type": "stream",
          "name": "stdout",
          "text": [
            "b\n",
            "a\n",
            "n\n",
            "a\n",
            "n\n",
            "a\n"
          ]
        }
      ]
    },
    {
      "cell_type": "code",
      "source": [
        "mytuple = (\"apple\", \"banana\", \"cherry\")\n",
        "\n",
        "for x in mytuple:\n",
        "  print(x)"
      ],
      "metadata": {
        "colab": {
          "base_uri": "https://localhost:8080/"
        },
        "id": "RMYpX-ixWGAJ",
        "outputId": "4dd7ca18-54ca-45bf-e389-37851218d6f1"
      },
      "execution_count": null,
      "outputs": [
        {
          "output_type": "stream",
          "name": "stdout",
          "text": [
            "apple\n",
            "banana\n",
            "cherry\n"
          ]
        }
      ]
    },
    {
      "cell_type": "code",
      "source": [
        "mystr = \"banana\"\n",
        "\n",
        "for x in mystr:\n",
        "  print(x)"
      ],
      "metadata": {
        "colab": {
          "base_uri": "https://localhost:8080/"
        },
        "id": "r-qukVDiWHqj",
        "outputId": "972226f3-22c8-4c64-cb9a-536bea828b71"
      },
      "execution_count": null,
      "outputs": [
        {
          "output_type": "stream",
          "name": "stdout",
          "text": [
            "b\n",
            "a\n",
            "n\n",
            "a\n",
            "n\n",
            "a\n"
          ]
        }
      ]
    },
    {
      "cell_type": "code",
      "source": [
        "class MyNumbers:\n",
        "  def __iter__(self):\n",
        "    self.a = 1\n",
        "    return self\n",
        "\n",
        "  def __next__(self):\n",
        "    x = self.a\n",
        "    self.a += 1\n",
        "    return x\n",
        "\n",
        "myclass = MyNumbers()\n",
        "myiter = iter(myclass)\n",
        "\n",
        "print(next(myiter))\n",
        "print(next(myiter))\n",
        "print(next(myiter))\n",
        "print(next(myiter))\n",
        "print(next(myiter))"
      ],
      "metadata": {
        "colab": {
          "base_uri": "https://localhost:8080/"
        },
        "id": "jO-D406xWKNl",
        "outputId": "4116fc68-7476-43ff-f7ad-d151e8db5ff8"
      },
      "execution_count": null,
      "outputs": [
        {
          "output_type": "stream",
          "name": "stdout",
          "text": [
            "1\n",
            "2\n",
            "3\n",
            "4\n",
            "5\n"
          ]
        }
      ]
    },
    {
      "cell_type": "code",
      "source": [
        "class MyNumbers:\n",
        "  def __iter__(self):\n",
        "    self.a = 1\n",
        "    return self\n",
        "\n",
        "  def __next__(self):\n",
        "    if self.a <= 20:\n",
        "      x = self.a\n",
        "      self.a += 1\n",
        "      return x\n",
        "    else:\n",
        "      raise StopIteration\n",
        "\n",
        "myclass = MyNumbers()\n",
        "myiter = iter(myclass)\n",
        "\n",
        "for x in myiter:\n",
        "  print(x)"
      ],
      "metadata": {
        "colab": {
          "base_uri": "https://localhost:8080/"
        },
        "id": "i-0hAzzRWgnY",
        "outputId": "deb4e93c-204c-40ff-f7a1-2bf081b169b3"
      },
      "execution_count": null,
      "outputs": [
        {
          "output_type": "stream",
          "name": "stdout",
          "text": [
            "1\n",
            "2\n",
            "3\n",
            "4\n",
            "5\n",
            "6\n",
            "7\n",
            "8\n",
            "9\n",
            "10\n",
            "11\n",
            "12\n",
            "13\n",
            "14\n",
            "15\n",
            "16\n",
            "17\n",
            "18\n",
            "19\n",
            "20\n"
          ]
        }
      ]
    },
    {
      "cell_type": "code",
      "source": [
        "#Python Scope"
      ],
      "metadata": {
        "id": "qStJszXAWh3Q"
      },
      "execution_count": null,
      "outputs": []
    },
    {
      "cell_type": "code",
      "source": [
        "#Local scope\n",
        "def myfunc():\n",
        "  x = 300\n",
        "  print(x)\n",
        "\n",
        "myfunc()"
      ],
      "metadata": {
        "colab": {
          "base_uri": "https://localhost:8080/"
        },
        "id": "mycYl_BTZHzC",
        "outputId": "1b67f8da-2490-4393-d654-7cc880f5be67"
      },
      "execution_count": null,
      "outputs": [
        {
          "output_type": "stream",
          "name": "stdout",
          "text": [
            "300\n"
          ]
        }
      ]
    },
    {
      "cell_type": "code",
      "source": [
        "#Function inside the function\n",
        "def myfunc():\n",
        "  x = 300\n",
        "  def myinnerfunc():\n",
        "    print(x)\n",
        "  myinnerfunc()\n",
        "\n",
        "myfunc()"
      ],
      "metadata": {
        "colab": {
          "base_uri": "https://localhost:8080/"
        },
        "id": "wBEmGgJgZlF-",
        "outputId": "0a1584aa-d4b5-46ec-c00a-676cfbc80803"
      },
      "execution_count": null,
      "outputs": [
        {
          "output_type": "stream",
          "name": "stdout",
          "text": [
            "300\n"
          ]
        }
      ]
    },
    {
      "cell_type": "code",
      "source": [
        "#Global scope\n",
        "x = 300\n",
        "\n",
        "def myfunc():\n",
        "  print(x)\n",
        "\n",
        "myfunc()\n",
        "\n",
        "print(x)"
      ],
      "metadata": {
        "colab": {
          "base_uri": "https://localhost:8080/"
        },
        "id": "2YQgUaTJZpO1",
        "outputId": "59f98ba1-1c61-4aeb-e967-e854ed667ac4"
      },
      "execution_count": null,
      "outputs": [
        {
          "output_type": "stream",
          "name": "stdout",
          "text": [
            "300\n",
            "300\n"
          ]
        }
      ]
    },
    {
      "cell_type": "code",
      "source": [
        "#Naming variables\n",
        "x = 300\n",
        "\n",
        "def myfunc():\n",
        "  print(x)\n",
        "\n",
        "myfunc()\n",
        "\n",
        "print(x)"
      ],
      "metadata": {
        "colab": {
          "base_uri": "https://localhost:8080/"
        },
        "id": "UQEKpj98Zr0S",
        "outputId": "b9582bbc-12d7-41d0-a860-020e455bbf96"
      },
      "execution_count": null,
      "outputs": [
        {
          "output_type": "stream",
          "name": "stdout",
          "text": [
            "300\n",
            "300\n"
          ]
        }
      ]
    },
    {
      "cell_type": "code",
      "source": [
        "#Global keyword\n",
        "def myfunc():\n",
        "  global x\n",
        "  x = 300\n",
        "\n",
        "myfunc()\n",
        "\n",
        "print(x)"
      ],
      "metadata": {
        "colab": {
          "base_uri": "https://localhost:8080/"
        },
        "id": "_u5MLfn5ZudX",
        "outputId": "bda098ae-1ca1-4230-c4c7-a52370d01ba2"
      },
      "execution_count": null,
      "outputs": [
        {
          "output_type": "stream",
          "name": "stdout",
          "text": [
            "300\n"
          ]
        }
      ]
    },
    {
      "cell_type": "code",
      "source": [
        "x = 300\n",
        "\n",
        "def myfunc():\n",
        "  global x\n",
        "  x = 200\n",
        "\n",
        "myfunc()\n",
        "\n",
        "print(x)"
      ],
      "metadata": {
        "colab": {
          "base_uri": "https://localhost:8080/"
        },
        "id": "0cP3vcGMZxEV",
        "outputId": "129416b9-52a1-46bc-db9f-ee9aba4c764e"
      },
      "execution_count": null,
      "outputs": [
        {
          "output_type": "stream",
          "name": "stdout",
          "text": [
            "200\n"
          ]
        }
      ]
    },
    {
      "cell_type": "code",
      "source": [
        "#Nonlocal keyword\n",
        "def myfunc1():\n",
        "  x = \"Jane\"\n",
        "  def myfunc2():\n",
        "    nonlocal x\n",
        "    x = \"hello\"\n",
        "  myfunc2()\n",
        "  return x\n",
        "\n",
        "print(myfunc1())"
      ],
      "metadata": {
        "colab": {
          "base_uri": "https://localhost:8080/"
        },
        "id": "MYbeI_BnZyJk",
        "outputId": "0ab5bafa-99ef-4712-bd19-86824bb47d25"
      },
      "execution_count": null,
      "outputs": [
        {
          "output_type": "stream",
          "name": "stdout",
          "text": [
            "hello\n"
          ]
        }
      ]
    },
    {
      "cell_type": "code",
      "source": [
        "x = 300\n",
        "def myfunc():\n",
        "  global x\n",
        "  x = 200\n",
        "myfunc()\n",
        "print(x)"
      ],
      "metadata": {
        "colab": {
          "base_uri": "https://localhost:8080/"
        },
        "id": "RMjJpvhHZ27B",
        "outputId": "aaa480e9-9933-458d-a564-973c7d5b2dc2"
      },
      "execution_count": null,
      "outputs": [
        {
          "output_type": "stream",
          "name": "stdout",
          "text": [
            "200\n"
          ]
        }
      ]
    },
    {
      "cell_type": "code",
      "source": [
        "#Modules"
      ],
      "metadata": {
        "id": "TcrJJMWeapLJ"
      },
      "execution_count": null,
      "outputs": []
    },
    {
      "cell_type": "code",
      "source": [
        "#Create a module\n",
        "def greeting(name):\n",
        "  print(\"Hello, \" + name)"
      ],
      "metadata": {
        "id": "tKFBeXyta5pO"
      },
      "execution_count": null,
      "outputs": []
    },
    {
      "cell_type": "code",
      "source": [
        "person1 = {\n",
        "  \"name\": \"John\",\n",
        "  \"age\": 36,\n",
        "  \"country\": \"Norway\"\n",
        "}"
      ],
      "metadata": {
        "id": "9rKL7PlWa8F2"
      },
      "execution_count": null,
      "outputs": []
    },
    {
      "cell_type": "code",
      "source": [
        "import mymodule\n",
        "\n",
        "mymodule.greeting(\"Jonathan\")"
      ],
      "metadata": {
        "id": "qWWLzsDmdJq6"
      },
      "execution_count": null,
      "outputs": []
    },
    {
      "cell_type": "code",
      "source": [
        "import mymodule\n",
        "\n",
        "a = mymodule.person1[\"age\"]\n",
        "print(a)"
      ],
      "metadata": {
        "id": "3DEUfyuNa-dw"
      },
      "execution_count": null,
      "outputs": []
    },
    {
      "cell_type": "code",
      "source": [
        "import mymodule as mx\n",
        "\n",
        "a = mx.person1[\"age\"]\n",
        "print(a)"
      ],
      "metadata": {
        "id": "MipWX5xuce7k"
      },
      "execution_count": null,
      "outputs": []
    },
    {
      "cell_type": "code",
      "source": [
        "import platform\n",
        "\n",
        "x = platform.system()\n",
        "print(x)"
      ],
      "metadata": {
        "colab": {
          "base_uri": "https://localhost:8080/"
        },
        "id": "wyoqoCjRdQJk",
        "outputId": "1868e165-a568-4489-f643-38cdeb86c122"
      },
      "execution_count": null,
      "outputs": [
        {
          "output_type": "stream",
          "name": "stdout",
          "text": [
            "Linux\n"
          ]
        }
      ]
    },
    {
      "cell_type": "code",
      "source": [
        "import platform\n",
        "\n",
        "x = dir(platform)\n",
        "print(x)"
      ],
      "metadata": {
        "colab": {
          "base_uri": "https://localhost:8080/"
        },
        "id": "Mk5-SAJHdRtX",
        "outputId": "454f1916-fabf-4e37-ef7a-e1b33496b008"
      },
      "execution_count": null,
      "outputs": [
        {
          "output_type": "stream",
          "name": "stdout",
          "text": [
            "['_Processor', '_WIN32_CLIENT_RELEASES', '_WIN32_SERVER_RELEASES', '__builtins__', '__cached__', '__copyright__', '__doc__', '__file__', '__loader__', '__name__', '__package__', '__spec__', '__version__', '_comparable_version', '_component_re', '_default_architecture', '_follow_symlinks', '_get_machine_win32', '_ironpython26_sys_version_parser', '_ironpython_sys_version_parser', '_java_getprop', '_libc_search', '_mac_ver_xml', '_node', '_norm_version', '_os_release_cache', '_os_release_candidates', '_os_release_line', '_os_release_unescape', '_parse_os_release', '_platform', '_platform_cache', '_pypy_sys_version_parser', '_sys_version', '_sys_version_cache', '_sys_version_parser', '_syscmd_file', '_syscmd_ver', '_uname_cache', '_unknown_as_blank', '_ver_output', '_ver_stages', 'architecture', 'collections', 'freedesktop_os_release', 'functools', 'itertools', 'java_ver', 'libc_ver', 'mac_ver', 'machine', 'node', 'os', 'platform', 'processor', 'python_branch', 'python_build', 'python_compiler', 'python_implementation', 'python_revision', 'python_version', 'python_version_tuple', 're', 'release', 'sys', 'system', 'system_alias', 'uname', 'uname_result', 'version', 'win32_edition', 'win32_is_iot', 'win32_ver']\n"
          ]
        }
      ]
    },
    {
      "cell_type": "code",
      "source": [
        "def greeting(name):\n",
        "  print(\"Hello, \" + name)\n",
        "\n",
        "person1 = {\n",
        "  \"name\": \"John\",\n",
        "  \"age\": 36,\n",
        "  \"country\": \"Norway\"\n",
        "}"
      ],
      "metadata": {
        "id": "MkIZ3DQMdSua"
      },
      "execution_count": null,
      "outputs": []
    },
    {
      "cell_type": "code",
      "source": [
        "from mymodule import person1\n",
        "\n",
        "print (person1[\"age\"])"
      ],
      "metadata": {
        "id": "f4RdAfM1dnmT"
      },
      "execution_count": null,
      "outputs": []
    },
    {
      "cell_type": "code",
      "source": [
        "#Dates"
      ],
      "metadata": {
        "id": "1s72OvutdqVH"
      },
      "execution_count": null,
      "outputs": []
    },
    {
      "cell_type": "code",
      "source": [
        "import datetime\n",
        "\n",
        "x = datetime.datetime.now()\n",
        "print(x)"
      ],
      "metadata": {
        "colab": {
          "base_uri": "https://localhost:8080/"
        },
        "id": "1w9NzcgKevLd",
        "outputId": "fcfb8185-88da-4659-bc2d-172b5de8a251"
      },
      "execution_count": null,
      "outputs": [
        {
          "output_type": "stream",
          "name": "stdout",
          "text": [
            "2025-02-13 13:23:56.469917\n"
          ]
        }
      ]
    },
    {
      "cell_type": "code",
      "source": [
        "import datetime\n",
        "\n",
        "x = datetime.datetime.now()\n",
        "\n",
        "print(x.year)\n",
        "print(x.strftime(\"%A\"))"
      ],
      "metadata": {
        "colab": {
          "base_uri": "https://localhost:8080/"
        },
        "id": "arpWAhZuevg9",
        "outputId": "2c739fab-a423-464b-bcdf-8ebcbdb3c44c"
      },
      "execution_count": null,
      "outputs": [
        {
          "output_type": "stream",
          "name": "stdout",
          "text": [
            "2025\n",
            "Thursday\n"
          ]
        }
      ]
    },
    {
      "cell_type": "code",
      "source": [
        "import datetime\n",
        "\n",
        "x = datetime.datetime(2020, 5, 17)\n",
        "\n",
        "print(x)"
      ],
      "metadata": {
        "colab": {
          "base_uri": "https://localhost:8080/"
        },
        "id": "tdfjEC74ezso",
        "outputId": "67acf58d-917b-4eb2-ece0-714afb267a57"
      },
      "execution_count": null,
      "outputs": [
        {
          "output_type": "stream",
          "name": "stdout",
          "text": [
            "2020-05-17 00:00:00\n"
          ]
        }
      ]
    },
    {
      "cell_type": "code",
      "source": [
        "import datetime\n",
        "\n",
        "x = datetime.datetime(2018, 6, 1)\n",
        "\n",
        "print(x.strftime(\"%B\"))"
      ],
      "metadata": {
        "colab": {
          "base_uri": "https://localhost:8080/"
        },
        "id": "dHJkB2wifJyd",
        "outputId": "2154af61-6b1d-4b91-f1a0-21b20e7499e0"
      },
      "execution_count": null,
      "outputs": [
        {
          "output_type": "stream",
          "name": "stdout",
          "text": [
            "June\n"
          ]
        }
      ]
    },
    {
      "cell_type": "code",
      "source": [
        "#Math"
      ],
      "metadata": {
        "id": "YxkLP8X7fSkn"
      },
      "execution_count": null,
      "outputs": []
    },
    {
      "cell_type": "code",
      "source": [
        "x = min(5, 10, 25)\n",
        "y = max(5, 10, 25)\n",
        "\n",
        "print(x)\n",
        "print(y)"
      ],
      "metadata": {
        "colab": {
          "base_uri": "https://localhost:8080/"
        },
        "id": "ocu7Jbbxfjsf",
        "outputId": "9611861f-7f71-46d3-fddb-6450089b5a10"
      },
      "execution_count": null,
      "outputs": [
        {
          "output_type": "stream",
          "name": "stdout",
          "text": [
            "5\n",
            "25\n"
          ]
        }
      ]
    },
    {
      "cell_type": "code",
      "source": [
        "x = abs(-7.25)\n",
        "\n",
        "print(x)"
      ],
      "metadata": {
        "colab": {
          "base_uri": "https://localhost:8080/"
        },
        "id": "NteA2lWCfj9k",
        "outputId": "5e6f08a7-3566-43fc-b89c-afdb0fbc0107"
      },
      "execution_count": null,
      "outputs": [
        {
          "output_type": "stream",
          "name": "stdout",
          "text": [
            "7.25\n"
          ]
        }
      ]
    },
    {
      "cell_type": "code",
      "source": [
        "x = pow(4, 3)\n",
        "\n",
        "print(x)"
      ],
      "metadata": {
        "colab": {
          "base_uri": "https://localhost:8080/"
        },
        "id": "knvee_qKfmDh",
        "outputId": "228e2a70-0154-4715-dd06-d2bfa16cac8d"
      },
      "execution_count": null,
      "outputs": [
        {
          "output_type": "stream",
          "name": "stdout",
          "text": [
            "64\n"
          ]
        }
      ]
    },
    {
      "cell_type": "code",
      "source": [
        "import math"
      ],
      "metadata": {
        "id": "yKQWJm5tfm9R"
      },
      "execution_count": null,
      "outputs": []
    },
    {
      "cell_type": "code",
      "source": [
        "x = math.sqrt(64)\n",
        "\n",
        "print(x)"
      ],
      "metadata": {
        "colab": {
          "base_uri": "https://localhost:8080/"
        },
        "id": "pAEXXAuSfojB",
        "outputId": "ef6422d3-6e7f-4a43-987c-11f687e6d7ca"
      },
      "execution_count": null,
      "outputs": [
        {
          "output_type": "stream",
          "name": "stdout",
          "text": [
            "8.0\n"
          ]
        }
      ]
    },
    {
      "cell_type": "code",
      "source": [
        "x = math.ceil(1.4)\n",
        "y = math.floor(1.4)\n",
        "\n",
        "print(x) # returns 2\n",
        "print(y) # returns 1"
      ],
      "metadata": {
        "colab": {
          "base_uri": "https://localhost:8080/"
        },
        "id": "916UZDC5fp33",
        "outputId": "177714d3-f472-41cb-8c86-06943e0d0b8a"
      },
      "execution_count": null,
      "outputs": [
        {
          "output_type": "stream",
          "name": "stdout",
          "text": [
            "2\n",
            "1\n"
          ]
        }
      ]
    },
    {
      "cell_type": "code",
      "source": [
        "x = math.pi\n",
        "\n",
        "print(x)"
      ],
      "metadata": {
        "colab": {
          "base_uri": "https://localhost:8080/"
        },
        "id": "XAZ1_0JwfrUG",
        "outputId": "a778e75c-ccfd-4afd-82ff-9c3a4e2ed060"
      },
      "execution_count": null,
      "outputs": [
        {
          "output_type": "stream",
          "name": "stdout",
          "text": [
            "3.141592653589793\n"
          ]
        }
      ]
    },
    {
      "cell_type": "code",
      "source": [
        "#JSON is a syntax for storing and exchanging data.\n",
        "\n",
        "#JSON is text, written with JavaScript object notation."
      ],
      "metadata": {
        "id": "5QE0CxXifta4"
      },
      "execution_count": null,
      "outputs": []
    },
    {
      "cell_type": "code",
      "source": [
        "import json"
      ],
      "metadata": {
        "id": "6h9y91Y4f3C9"
      },
      "execution_count": null,
      "outputs": []
    },
    {
      "cell_type": "code",
      "source": [
        "#Parse JSON - Convert from JSON to Python\n",
        "\n",
        "#The result will be a Python dictionary."
      ],
      "metadata": {
        "id": "Dzc2eJwCf5dP"
      },
      "execution_count": null,
      "outputs": []
    },
    {
      "cell_type": "code",
      "source": [
        "# some JSON:\n",
        "x =  '{ \"name\":\"John\", \"age\":30, \"city\":\"New York\"}'\n",
        "\n",
        "# parse x:\n",
        "y = json.loads(x)\n",
        "\n",
        "# the result is a Python dictionary:\n",
        "print(y[\"age\"])"
      ],
      "metadata": {
        "colab": {
          "base_uri": "https://localhost:8080/"
        },
        "id": "K0s2SnT_gAWd",
        "outputId": "ba7fc671-a18b-404a-e984-8af728774134"
      },
      "execution_count": null,
      "outputs": [
        {
          "output_type": "stream",
          "name": "stdout",
          "text": [
            "30\n"
          ]
        }
      ]
    },
    {
      "cell_type": "code",
      "source": [
        "#Convert from Python to JSON\n",
        "# a Python object (dict):\n",
        "x = {\n",
        "  \"name\": \"John\",\n",
        "  \"age\": 30,\n",
        "  \"city\": \"New York\"\n",
        "}\n",
        "\n",
        "# convert into JSON:\n",
        "y = json.dumps(x)\n",
        "\n",
        "# the result is a JSON string:\n",
        "print(y)"
      ],
      "metadata": {
        "colab": {
          "base_uri": "https://localhost:8080/"
        },
        "id": "OhJyBCScgByb",
        "outputId": "370fa2f7-8bcc-4d6b-970a-2c6cde89ab64"
      },
      "execution_count": null,
      "outputs": [
        {
          "output_type": "stream",
          "name": "stdout",
          "text": [
            "{\"name\": \"John\", \"age\": 30, \"city\": \"New York\"}\n"
          ]
        }
      ]
    },
    {
      "cell_type": "code",
      "source": [
        "'''You can convert Python objects of the following types, into JSON strings:\n",
        "\n",
        "dict\n",
        "list\n",
        "tuple\n",
        "string\n",
        "int\n",
        "float\n",
        "True\n",
        "False\n",
        "None'''"
      ],
      "metadata": {
        "colab": {
          "base_uri": "https://localhost:8080/",
          "height": 36
        },
        "id": "AI2Q8icCgJQ3",
        "outputId": "4f4633f5-ce86-42c6-b76b-ec26744a70c8"
      },
      "execution_count": null,
      "outputs": [
        {
          "output_type": "execute_result",
          "data": {
            "text/plain": [
              "'You can convert Python objects of the following types, into JSON strings:\\n\\ndict\\nlist\\ntuple\\nstring\\nint\\nfloat\\nTrue\\nFalse\\nNone'"
            ],
            "application/vnd.google.colaboratory.intrinsic+json": {
              "type": "string"
            }
          },
          "metadata": {},
          "execution_count": 47
        }
      ]
    },
    {
      "cell_type": "code",
      "source": [
        "print(json.dumps({\"name\": \"John\", \"age\": 30}))\n",
        "print(json.dumps([\"apple\", \"bananas\"]))\n",
        "print(json.dumps((\"apple\", \"bananas\")))\n",
        "print(json.dumps(\"hello\"))\n",
        "print(json.dumps(42))\n",
        "print(json.dumps(31.76))\n",
        "print(json.dumps(True))\n",
        "print(json.dumps(False))\n",
        "print(json.dumps(None))"
      ],
      "metadata": {
        "colab": {
          "base_uri": "https://localhost:8080/"
        },
        "id": "d-ySRUQDgNpf",
        "outputId": "81ef3467-489a-4503-9c1f-6c3ec35dedd2"
      },
      "execution_count": null,
      "outputs": [
        {
          "output_type": "stream",
          "name": "stdout",
          "text": [
            "{\"name\": \"John\", \"age\": 30}\n",
            "[\"apple\", \"bananas\"]\n",
            "[\"apple\", \"bananas\"]\n",
            "\"hello\"\n",
            "42\n",
            "31.76\n",
            "true\n",
            "false\n",
            "null\n"
          ]
        }
      ]
    },
    {
      "cell_type": "code",
      "source": [
        "x = {\n",
        "  \"name\": \"John\",\n",
        "  \"age\": 30,\n",
        "  \"married\": True,\n",
        "  \"divorced\": False,\n",
        "  \"children\": (\"Ann\",\"Billy\"),\n",
        "  \"pets\": None,\n",
        "  \"cars\": [\n",
        "    {\"model\": \"BMW 230\", \"mpg\": 27.5},\n",
        "    {\"model\": \"Ford Edge\", \"mpg\": 24.1}\n",
        "  ]\n",
        "}\n",
        "\n",
        "print(json.dumps(x))"
      ],
      "metadata": {
        "colab": {
          "base_uri": "https://localhost:8080/"
        },
        "id": "V7BZb0efgN7Z",
        "outputId": "631a29e6-e6f2-409b-bc2d-a03ad10a1004"
      },
      "execution_count": null,
      "outputs": [
        {
          "output_type": "stream",
          "name": "stdout",
          "text": [
            "{\"name\": \"John\", \"age\": 30, \"married\": true, \"divorced\": false, \"children\": [\"Ann\", \"Billy\"], \"pets\": null, \"cars\": [{\"model\": \"BMW 230\", \"mpg\": 27.5}, {\"model\": \"Ford Edge\", \"mpg\": 24.1}]}\n"
          ]
        }
      ]
    },
    {
      "cell_type": "code",
      "source": [
        "x = {\n",
        "    \"name\": \"John\"\n",
        "}"
      ],
      "metadata": {
        "id": "1xdPQcXQh2ye"
      },
      "execution_count": null,
      "outputs": []
    },
    {
      "cell_type": "code",
      "source": [
        "json.dumps(x, indent=4)"
      ],
      "metadata": {
        "colab": {
          "base_uri": "https://localhost:8080/",
          "height": 36
        },
        "id": "BKaPbZGZgPfA",
        "outputId": "f356a494-528e-4634-ee62-ba8d2bb3e673"
      },
      "execution_count": null,
      "outputs": [
        {
          "output_type": "execute_result",
          "data": {
            "text/plain": [
              "'{\\n    \"name\": \"John\"\\n}'"
            ],
            "application/vnd.google.colaboratory.intrinsic+json": {
              "type": "string"
            }
          },
          "metadata": {},
          "execution_count": 54
        }
      ]
    },
    {
      "cell_type": "code",
      "source": [
        "json.dumps(x, indent=4, separators=(\". \", \" = \"))"
      ],
      "metadata": {
        "colab": {
          "base_uri": "https://localhost:8080/",
          "height": 36
        },
        "id": "MemnfmT5gQtP",
        "outputId": "9ba2adf2-cc82-4fa5-a778-9fbb6a6e63de"
      },
      "execution_count": null,
      "outputs": [
        {
          "output_type": "execute_result",
          "data": {
            "text/plain": [
              "'{\\n    \"name\" = \"John\"\\n}'"
            ],
            "application/vnd.google.colaboratory.intrinsic+json": {
              "type": "string"
            }
          },
          "metadata": {},
          "execution_count": 55
        }
      ]
    },
    {
      "cell_type": "code",
      "source": [
        "json.dumps(x, indent=4, sort_keys=True)"
      ],
      "metadata": {
        "colab": {
          "base_uri": "https://localhost:8080/",
          "height": 36
        },
        "id": "nn4h6EBGgSbp",
        "outputId": "19ed3e77-fc7b-49a3-dcf7-1b7c33586369"
      },
      "execution_count": null,
      "outputs": [
        {
          "output_type": "execute_result",
          "data": {
            "text/plain": [
              "'{\\n    \"name\": \"John\"\\n}'"
            ],
            "application/vnd.google.colaboratory.intrinsic+json": {
              "type": "string"
            }
          },
          "metadata": {},
          "execution_count": 56
        }
      ]
    },
    {
      "cell_type": "code",
      "source": [
        "# Dates"
      ],
      "metadata": {
        "id": "zvnqUTRZTruU"
      },
      "execution_count": null,
      "outputs": []
    },
    {
      "cell_type": "code",
      "source": [
        "import datetime\n",
        "\n",
        "# 1. Subtract five days from current date\n",
        "current_date = datetime.date.today()\n",
        "five_days_ago = current_date - datetime.timedelta(days=5)\n",
        "print(f\"Five days ago: {five_days_ago}\")"
      ],
      "metadata": {
        "colab": {
          "base_uri": "https://localhost:8080/"
        },
        "id": "P58zngnagTta",
        "outputId": "0b3d0735-8e97-42cb-a5e7-a394da92c5f5"
      },
      "execution_count": null,
      "outputs": [
        {
          "output_type": "stream",
          "name": "stdout",
          "text": [
            "Five days ago: 2025-02-08\n"
          ]
        }
      ]
    },
    {
      "cell_type": "code",
      "source": [
        "# 2. Print yesterday, today, tomorrow\n",
        "today = datetime.date.today()\n",
        "yesterday = today - datetime.timedelta(days=1)\n",
        "tomorrow = today + datetime.timedelta(days=1)\n",
        "\n",
        "print(f\"Yesterday: {yesterday}\")\n",
        "print(f\"Today: {today}\")\n",
        "print(f\"Tomorrow: {tomorrow}\")"
      ],
      "metadata": {
        "colab": {
          "base_uri": "https://localhost:8080/"
        },
        "id": "ZZnlOmEwmAjl",
        "outputId": "3c8c50ec-49f0-4856-b80b-49b46dde0fd9"
      },
      "execution_count": null,
      "outputs": [
        {
          "output_type": "stream",
          "name": "stdout",
          "text": [
            "Yesterday: 2025-02-12\n",
            "Today: 2025-02-13\n",
            "Tomorrow: 2025-02-14\n"
          ]
        }
      ]
    },
    {
      "cell_type": "code",
      "source": [
        "# 3. Drop microseconds from datetime\n",
        "\n",
        "import datetime\n",
        "def drop_microseconds(dt):\n",
        "    return dt.replace(microsecond=0)\n",
        "\n",
        "now = datetime.datetime.now()\n",
        "now_no_micro = drop_microseconds(now)\n",
        "print(f\"Datetime without microseconds: {now_no_micro}\")"
      ],
      "metadata": {
        "colab": {
          "base_uri": "https://localhost:8080/"
        },
        "id": "iANUdjhBmCSF",
        "outputId": "04814af3-548b-4e5e-d0b5-d218a722645b"
      },
      "execution_count": null,
      "outputs": [
        {
          "output_type": "stream",
          "name": "stdout",
          "text": [
            "Datetime without microseconds: 2025-02-16 10:39:19\n"
          ]
        }
      ]
    },
    {
      "cell_type": "code",
      "source": [
        "# 4. Two date difference in seconds\n",
        "from datetime import datetime\n",
        "\n",
        "def date_difference_in_seconds(date1: str, date2: str, date_format: str = \"%Y-%m-%d %H:%M:%S\") -> int:\n",
        "    dt1 = datetime.strptime(date1, date_format)\n",
        "    dt2 = datetime.strptime(date2, date_format)\n",
        "    return int(abs((dt2 - dt1).total_seconds()))\n",
        "\n",
        "date1 = \"2024-02-13 12:00:00\"\n",
        "date2 = \"2024-02-14 12:30:00\"\n",
        "seconds_difference = date_difference_in_seconds(date1, date2)\n",
        "print(f\"Difference in seconds: {seconds_difference}\")"
      ],
      "metadata": {
        "id": "JX3oMacv39iT",
        "colab": {
          "base_uri": "https://localhost:8080/"
        },
        "outputId": "6e31c042-1f50-4e90-d8f9-65cb2cdb7bd2"
      },
      "execution_count": null,
      "outputs": [
        {
          "output_type": "stream",
          "name": "stdout",
          "text": [
            "Difference in seconds: 88200\n"
          ]
        }
      ]
    },
    {
      "cell_type": "code",
      "source": [
        "# Generators"
      ],
      "metadata": {
        "id": "fv1aBWnbTBtU"
      },
      "execution_count": null,
      "outputs": []
    },
    {
      "cell_type": "code",
      "source": [
        "# 1. Generator for squares up to N\n",
        "def squares_up_to_n(n):\n",
        "    for i in range(n + 1):\n",
        "        yield i * i\n",
        "n = int(input(\"Enter a number n: \"))\n",
        "squares_gen = squares_up_to_n(n)\n",
        "for square in squares_gen:\n",
        "    print(square)"
      ],
      "metadata": {
        "colab": {
          "base_uri": "https://localhost:8080/"
        },
        "id": "D_KwkV3KHBPK",
        "outputId": "0076560f-73b9-428d-bc18-176731f61ab9"
      },
      "execution_count": null,
      "outputs": [
        {
          "output_type": "stream",
          "name": "stdout",
          "text": [
            "Enter a number n: 8\n",
            "0\n",
            "1\n",
            "4\n",
            "9\n",
            "16\n",
            "25\n",
            "36\n",
            "49\n",
            "64\n"
          ]
        }
      ]
    },
    {
      "cell_type": "code",
      "source": [
        "# 2. Printing even numbers using a generator\n",
        "def even_numbers_up_to_n(n):\n",
        "    for i in range(0, n + 1, 2):  # Iterate directly through even numbers\n",
        "        yield i\n",
        "\n",
        "n = int(input(\"Enter a number n: \"))\n",
        "even_nums = even_numbers_up_to_n(n)\n",
        "print(\", \".join(map(str, even_nums)))  # Efficiently convert to strings and join"
      ],
      "metadata": {
        "colab": {
          "base_uri": "https://localhost:8080/"
        },
        "id": "PnBnuBbIHCBG",
        "outputId": "82663cee-0c67-4a54-ed81-c55ee049325f"
      },
      "execution_count": null,
      "outputs": [
        {
          "output_type": "stream",
          "name": "stdout",
          "text": [
            "Enter a number n: 22\n",
            "0, 2, 4, 6, 8, 10, 12, 14, 16, 18, 20, 22\n"
          ]
        }
      ]
    },
    {
      "cell_type": "code",
      "source": [
        "# 3. Numbers divisible by 3 and 4\n",
        "def divisible_by_3_and_4(n):\n",
        "    for i in range(n + 1):\n",
        "        if i % 3 == 0 and i % 4 == 0:\n",
        "            yield i\n",
        "n = int(input(\"Enter the number: \"))\n",
        "divisible_nums = divisible_by_3_and_4(n)\n",
        "for num in divisible_nums:\n",
        "    print(num)"
      ],
      "metadata": {
        "colab": {
          "base_uri": "https://localhost:8080/"
        },
        "id": "bL7g8yZZHDUP",
        "outputId": "a81f63a7-3df7-489d-e62e-80bee2511756"
      },
      "execution_count": null,
      "outputs": [
        {
          "output_type": "stream",
          "name": "stdout",
          "text": [
            "Enter the number: 100\n",
            "0\n",
            "12\n",
            "24\n",
            "36\n",
            "48\n",
            "60\n",
            "72\n",
            "84\n",
            "96\n"
          ]
        }
      ]
    },
    {
      "cell_type": "code",
      "source": [
        "# 4. Squares generator from a to b\n",
        "def squares(a, b):\n",
        "    for i in range(a, b + 1):\n",
        "        yield i * i\n",
        "\n",
        "# Testing the squares generator\n",
        "a = int(input(\"Enter the starting number a: \"))\n",
        "b = int(input(\"Enter the ending number b: \"))\n",
        "\n",
        "for square in squares(a, b):\n",
        "    print(square)"
      ],
      "metadata": {
        "colab": {
          "base_uri": "https://localhost:8080/"
        },
        "id": "v8Gxg-LCHP8w",
        "outputId": "56a3c958-ebe6-4a3e-95e2-69eed668d38c"
      },
      "execution_count": null,
      "outputs": [
        {
          "output_type": "stream",
          "name": "stdout",
          "text": [
            "Enter the starting number a: 2\n",
            "Enter the ending number b: 10\n",
            "4\n",
            "9\n",
            "16\n",
            "25\n",
            "36\n",
            "49\n",
            "64\n",
            "81\n",
            "100\n"
          ]
        }
      ]
    },
    {
      "cell_type": "code",
      "source": [
        "# 5. Generator for numbers from n down to 0\n",
        "def countdown(n):\n",
        "    while n >= 0:\n",
        "        yield n\n",
        "        n -= 1\n",
        "\n",
        "# Example countdown\n",
        "n_start = int(input(\"Enter a starting number for countdown: \"))\n",
        "for num in countdown(n_start):\n",
        "    print(num)"
      ],
      "metadata": {
        "colab": {
          "base_uri": "https://localhost:8080/"
        },
        "id": "j8BHQWiOHRfB",
        "outputId": "7952996f-3a8a-4da1-d616-41073fdc3b3e"
      },
      "execution_count": null,
      "outputs": [
        {
          "output_type": "stream",
          "name": "stdout",
          "text": [
            "Enter a starting number for countdown: 8\n",
            "8\n",
            "7\n",
            "6\n",
            "5\n",
            "4\n",
            "3\n",
            "2\n",
            "1\n",
            "0\n"
          ]
        }
      ]
    },
    {
      "cell_type": "code",
      "source": [
        "# Math"
      ],
      "metadata": {
        "id": "WIrZS3qmHT4d"
      },
      "execution_count": null,
      "outputs": []
    },
    {
      "cell_type": "code",
      "source": [
        "# 1. Converting degree to radian\n",
        "\n",
        "import math\n",
        "def degree_to_radian(n):\n",
        "  return (n * (math.pi / 180))\n",
        "n = int(input(\"Enter the degree: \"))\n",
        "print (f\"{degree_to_radian(n):.6f}\")"
      ],
      "metadata": {
        "colab": {
          "base_uri": "https://localhost:8080/"
        },
        "id": "dC4BUMBOJkel",
        "outputId": "b317f9b3-36a3-4056-f909-26b9cc549454"
      },
      "execution_count": null,
      "outputs": [
        {
          "output_type": "stream",
          "name": "stdout",
          "text": [
            "Enter the degree: 15\n",
            "0.261799\n"
          ]
        }
      ]
    },
    {
      "cell_type": "code",
      "source": [
        "# 2. Calculating the area of a trapezoid\n",
        "\n",
        "def area(a, b1, b2):\n",
        "  return (a * ((b1 + b2) / 2))\n",
        "a = int(input(\"Height: \"))\n",
        "b1 = int(input(\"Base, first value: \"))\n",
        "b2 = int(input(\"Base, second value: \"))\n",
        "print (\"Expected Output: \", area(a, b1, b2))"
      ],
      "metadata": {
        "colab": {
          "base_uri": "https://localhost:8080/"
        },
        "id": "2GToDP9zKZ-p",
        "outputId": "bb35e8a8-0279-49cc-d322-d5ceb5097464"
      },
      "execution_count": null,
      "outputs": [
        {
          "output_type": "stream",
          "name": "stdout",
          "text": [
            "Height: 5\n",
            "Base, first value: 5\n",
            "Base, second value: 6\n",
            "Expected Output:  27.5\n"
          ]
        }
      ]
    },
    {
      "cell_type": "code",
      "source": [
        "# 3. Area of regular polygon\n",
        "\n",
        "def area_of_polygon(n, l):\n",
        "  r = l / (2 * math.tan(math.pi / n))\n",
        "  P = (l * n) / 2\n",
        "  A = int((P * r))\n",
        "  return A\n",
        "n = int(input(\"Enter the number of sides: \"))\n",
        "l = int(input(\"Enter the length of a side: \"))\n",
        "print (\"The area of the polygon is: \", area_of_polygon(n, l))"
      ],
      "metadata": {
        "colab": {
          "base_uri": "https://localhost:8080/"
        },
        "id": "pOSMax6dLcYA",
        "outputId": "2f4f1c0d-ae70-4fbb-be4a-0ab3d671bfe0"
      },
      "execution_count": null,
      "outputs": [
        {
          "output_type": "stream",
          "name": "stdout",
          "text": [
            "Enter the number of sides: 4\n",
            "Enter the length of a side: 25\n",
            "The area of the polygon is:  625\n"
          ]
        }
      ]
    },
    {
      "cell_type": "code",
      "source": [
        "# 4. Area of Parallelogram\n",
        "\n",
        "def area_of_parallelogram(l, h):\n",
        "  return l * h\n",
        "l = float(input(\"Length of base: \"))\n",
        "h = float(input(\"Height of parallelogram: \"))\n",
        "print (\"Expected Output: \", area_of_parallelogram(l, h))"
      ],
      "metadata": {
        "colab": {
          "base_uri": "https://localhost:8080/"
        },
        "id": "UPWM9CTmN92b",
        "outputId": "b2dce1df-60c7-4060-eb93-659f2ae6a1d0"
      },
      "execution_count": null,
      "outputs": [
        {
          "output_type": "stream",
          "name": "stdout",
          "text": [
            "Length of base: 5\n",
            "Height of parallelogram: 6\n",
            "Expected Output:  30.0\n"
          ]
        }
      ]
    },
    {
      "cell_type": "code",
      "source": [
        "# JSON"
      ],
      "metadata": {
        "id": "fGfZVNDqPO8f"
      },
      "execution_count": null,
      "outputs": []
    },
    {
      "cell_type": "code",
      "source": [
        "import json\n",
        "\n",
        "def format_interface_status(json_string):\n",
        "    \"\"\"Formats interface status data into a table-like output.\"\"\"\n",
        "\n",
        "    try:\n",
        "        data = json.loads(json_string)\n",
        "    except json.JSONDecodeError:\n",
        "        return \"Invalid JSON data provided.\"\n",
        "\n",
        "    if \"imdata\" not in data or not isinstance(data[\"imdata\"], list):\n",
        "        return \"Invalid JSON structure: 'imdata' key not found or not a list.\"\n",
        "\n",
        "    output = \"Interface Status\\n\"\n",
        "    output += \"=\" * 80 + \"\\n\"\n",
        "    output += \"{:<50} {:<20} {:<8} {:<8}\\n\".format(\"DN\", \"Description\", \"Speed\", \"MTU\")\n",
        "    output += \"-\" * 50 + \" \" + \"-\" * 20 + \" \" + \"-\" * 8 + \" \" + \"-\" * 8 + \"\\n\"\n",
        "\n",
        "    for item in data[\"imdata\"]:\n",
        "        if \"l1PhysIf\" in item and \"attributes\" in item[\"l1PhysIf\"]:\n",
        "            attrs = item[\"l1PhysIf\"][\"attributes\"]\n",
        "            dn = attrs.get(\"dn\", \"\")\n",
        "            descr = attrs.get(\"descr\", \"\")\n",
        "            speed = attrs.get(\"speed\", \"\")\n",
        "            mtu = attrs.get(\"mtu\", \"\")\n",
        "\n",
        "            output += \"{:<50} {:<20} {:<8} {:<8}\\n\".format(dn, descr, speed, mtu)\n",
        "\n",
        "    return output\n",
        "\n",
        "\n",
        "json_data = str(\"\"\"\n",
        "{\n",
        "    \"totalCount\": \"400\",\n",
        "    \"imdata\": [\n",
        "        {\n",
        "            \"l1PhysIf\": {\n",
        "                \"attributes\": {\n",
        "                    \"adminSt\": \"up\",\n",
        "                    \"autoNeg\": \"on\",\n",
        "                    \"brkoutMap\": \"none\",\n",
        "                    \"bw\": \"0\",\n",
        "                    \"childAction\": \"\",\n",
        "                    \"delay\": \"1\",\n",
        "                    \"descr\": \"\",\n",
        "                    \"dn\": \"topology/pod-1/node-201/sys/phys-[eth1/33]\",\n",
        "                    \"dot1qEtherType\": \"0x8100\",\n",
        "                    \"ethpmCfgFailedBmp\": \"\",\n",
        "                    \"ethpmCfgFailedTs\": \"00:00:00:00.000\",\n",
        "                    \"ethpmCfgState\": \"0\",\n",
        "                    \"fecMode\": \"inherit\",\n",
        "                    \"id\": \"eth1/33\",\n",
        "                    \"inhBw\": \"unspecified\",\n",
        "                    \"layer\": \"Layer3\",\n",
        "                    \"lcOwn\": \"local\",\n",
        "                    \"linkDebounce\": \"100\",\n",
        "                    \"linkLog\": \"default\",\n",
        "                    \"mdix\": \"auto\",\n",
        "                    \"medium\": \"broadcast\",\n",
        "                    \"modTs\": \"2016-11-28T16:03:29.317-05:00\",\n",
        "                    \"mode\": \"trunk\",\n",
        "                    \"monPolDn\": \"uni/fabric/monfab-default\",\n",
        "                    \"mtu\": \"9150\",\n",
        "                    \"name\": \"\",\n",
        "                    \"pathSDescr\": \"\",\n",
        "                    \"portT\": \"fab\",\n",
        "                    \"prioFlowCtrl\": \"auto\",\n",
        "                    \"qiqL2ProtTunMask\": \"\",\n",
        "                    \"routerMac\": \"not-applicable\",\n",
        "                    \"snmpTrapSt\": \"enable\",\n",
        "                    \"spanMode\": \"not-a-span-dest\",\n",
        "                    \"speed\": \"inherit\",\n",
        "                    \"status\": \"\",\n",
        "                    \"switchingSt\": \"disabled\",\n",
        "                    \"trunkLog\": \"default\",\n",
        "                    \"usage\": \"fabric,fabric-ext\"\n",
        "                }\n",
        "            }\n",
        "        },\n",
        "        {\n",
        "            \"l1PhysIf\": {\n",
        "                \"attributes\": {\n",
        "                    \"adminSt\": \"up\",\n",
        "                    \"autoNeg\": \"on\",\n",
        "                    \"brkoutMap\": \"none\",\n",
        "                    \"bw\": \"0\",\n",
        "                    \"childAction\": \"\",\n",
        "                    \"delay\": \"1\",\n",
        "                    \"descr\": \"\",\n",
        "                    \"dn\": \"topology/pod-1/node-201/sys/phys-[eth1/34]\",\n",
        "                    \"dot1qEtherType\": \"0x8100\",\n",
        "                    \"ethpmCfgFailedBmp\": \"\",\n",
        "                    \"ethpmCfgFailedTs\": \"00:00:00:00.000\",\n",
        "                    \"ethpmCfgState\": \"0\",\n",
        "                    \"fecMode\": \"inherit\",\n",
        "                    \"id\": \"eth1/34\",\n",
        "                    \"inhBw\": \"unspecified\",\n",
        "                    \"layer\": \"Layer3\",\n",
        "                    \"lcOwn\": \"local\",\n",
        "                    \"linkDebounce\": \"100\",\n",
        "                    \"linkLog\": \"default\",\n",
        "                    \"mdix\": \"auto\",\n",
        "                    \"medium\": \"broadcast\",\n",
        "                    \"modTs\": \"2016-11-28T16:03:29.317-05:00\",\n",
        "                    \"mode\": \"trunk\",\n",
        "                    \"monPolDn\": \"uni/fabric/monfab-default\",\n",
        "                    \"mtu\": \"9150\",\n",
        "                    \"name\": \"\",\n",
        "                    \"pathSDescr\": \"\",\n",
        "                    \"portT\": \"fab\",\n",
        "                    \"prioFlowCtrl\": \"auto\",\n",
        "                    \"qiqL2ProtTunMask\": \"\",\n",
        "                    \"routerMac\": \"not-applicable\",\n",
        "                    \"snmpTrapSt\": \"enable\",\n",
        "                    \"spanMode\": \"not-a-span-dest\",\n",
        "                    \"speed\": \"inherit\",\n",
        "                    \"status\": \"\",\n",
        "                    \"switchingSt\": \"disabled\",\n",
        "                    \"trunkLog\": \"default\",\n",
        "                    \"usage\": \"fabric,fabric-ext\"\n",
        "                }\n",
        "            }\n",
        "        },\n",
        "        {\n",
        "            \"l1PhysIf\": {\n",
        "                \"attributes\": {\n",
        "                    \"adminSt\": \"up\",\n",
        "                    \"autoNeg\": \"on\",\n",
        "                    \"brkoutMap\": \"none\",\n",
        "                    \"bw\": \"0\",\n",
        "                    \"childAction\": \"\",\n",
        "                    \"delay\": \"1\",\n",
        "                    \"descr\": \"\",\n",
        "                    \"dn\": \"topology/pod-1/node-201/sys/phys-[eth1/35]\",\n",
        "                    \"dot1qEtherType\": \"0x8100\",\n",
        "                    \"ethpmCfgFailedBmp\": \"\",\n",
        "                    \"ethpmCfgFailedTs\": \"00:00:00:00.000\",\n",
        "                    \"ethpmCfgState\": \"0\",\n",
        "                    \"fecMode\": \"inherit\",\n",
        "                    \"id\": \"eth1/35\",\n",
        "                    \"inhBw\": \"unspecified\",\n",
        "                    \"layer\": \"Layer3\",\n",
        "                    \"lcOwn\": \"local\",\n",
        "                    \"linkDebounce\": \"100\",\n",
        "                    \"linkLog\": \"default\",\n",
        "                    \"mdix\": \"auto\",\n",
        "                    \"medium\": \"broadcast\",\n",
        "                    \"modTs\": \"2016-11-28T16:03:29.317-05:00\",\n",
        "                    \"mode\": \"trunk\",\n",
        "                    \"monPolDn\": \"uni/fabric/monfab-default\",\n",
        "                    \"mtu\": \"9150\",\n",
        "                    \"name\": \"\",\n",
        "                    \"pathSDescr\": \"\",\n",
        "                    \"portT\": \"fab\",\n",
        "                    \"prioFlowCtrl\": \"auto\",\n",
        "                    \"qiqL2ProtTunMask\": \"\",\n",
        "                    \"routerMac\": \"not-applicable\",\n",
        "                    \"snmpTrapSt\": \"enable\",\n",
        "                    \"spanMode\": \"not-a-span-dest\",\n",
        "                    \"speed\": \"inherit\",\n",
        "                    \"status\": \"\",\n",
        "                    \"switchingSt\": \"disabled\",\n",
        "                    \"trunkLog\": \"default\",\n",
        "                    \"usage\": \"fabric,fabric-ext\"\n",
        "                }\n",
        "            }\n",
        "        },\n",
        "        {\n",
        "            \"l1PhysIf\": {\n",
        "                \"attributes\": {\n",
        "                    \"adminSt\": \"up\",\n",
        "                    \"autoNeg\": \"on\",\n",
        "                    \"brkoutMap\": \"none\",\n",
        "                    \"bw\": \"0\",\n",
        "                    \"childAction\": \"\",\n",
        "                    \"delay\": \"1\",\n",
        "                    \"descr\": \"\",\n",
        "                    \"dn\": \"topology/pod-1/node-201/sys/phys-[eth1/36]\",\n",
        "                    \"dot1qEtherType\": \"0x8100\",\n",
        "                    \"ethpmCfgFailedBmp\": \"\",\n",
        "                    \"ethpmCfgFailedTs\": \"00:00:00:00.000\",\n",
        "                    \"ethpmCfgState\": \"0\",\n",
        "                    \"fecMode\": \"inherit\",\n",
        "                    \"id\": \"eth1/36\",\n",
        "                    \"inhBw\": \"unspecified\",\n",
        "                    \"layer\": \"Layer3\",\n",
        "                    \"lcOwn\": \"local\",\n",
        "                    \"linkDebounce\": \"100\",\n",
        "                    \"linkLog\": \"default\",\n",
        "                    \"mdix\": \"auto\",\n",
        "                    \"medium\": \"broadcast\",\n",
        "                    \"modTs\": \"2016-11-28T16:03:29.317-05:00\",\n",
        "                    \"mode\": \"trunk\",\n",
        "                    \"monPolDn\": \"uni/fabric/monfab-default\",\n",
        "                    \"mtu\": \"9150\",\n",
        "                    \"name\": \"\",\n",
        "                    \"pathSDescr\": \"\",\n",
        "                    \"portT\": \"fab\",\n",
        "                    \"prioFlowCtrl\": \"auto\",\n",
        "                    \"qiqL2ProtTunMask\": \"\",\n",
        "                    \"routerMac\": \"not-applicable\",\n",
        "                    \"snmpTrapSt\": \"enable\",\n",
        "                    \"spanMode\": \"not-a-span-dest\",\n",
        "                    \"speed\": \"inherit\",\n",
        "                    \"status\": \"\",\n",
        "                    \"switchingSt\": \"disabled\",\n",
        "                    \"trunkLog\": \"default\",\n",
        "                    \"usage\": \"fabric,fabric-ext\"\n",
        "                }\n",
        "            }\n",
        "        },\n",
        "        {\n",
        "            \"l1PhysIf\": {\n",
        "                \"attributes\": {\n",
        "                    \"adminSt\": \"up\",\n",
        "                    \"autoNeg\": \"on\",\n",
        "                    \"brkoutMap\": \"none\",\n",
        "                    \"bw\": \"0\",\n",
        "                    \"childAction\": \"\",\n",
        "                    \"delay\": \"1\",\n",
        "                    \"descr\": \"\",\n",
        "                    \"dn\": \"topology/pod-1/node-201/sys/phys-[eth1/1]\",\n",
        "                    \"dot1qEtherType\": \"0x8100\",\n",
        "                    \"ethpmCfgFailedBmp\": \"\",\n",
        "                    \"ethpmCfgFailedTs\": \"00:00:00:00.000\",\n",
        "                    \"ethpmCfgState\": \"0\",\n",
        "                    \"fecMode\": \"inherit\",\n",
        "                    \"id\": \"eth1/1\",\n",
        "                    \"inhBw\": \"unspecified\",\n",
        "                    \"layer\": \"Layer3\",\n",
        "                    \"lcOwn\": \"local\",\n",
        "                    \"linkDebounce\": \"100\",\n",
        "                    \"linkLog\": \"default\",\n",
        "                    \"mdix\": \"auto\",\n",
        "                    \"medium\": \"broadcast\",\n",
        "                    \"modTs\": \"2017-06-30T06:35:49.634-05:00\",\n",
        "                    \"mode\": \"trunk\",\n",
        "                    \"monPolDn\": \"uni/fabric/monfab-default\",\n",
        "                    \"mtu\": \"9150\",\n",
        "                    \"name\": \"\",\n",
        "                    \"pathSDescr\": \"\",\n",
        "                    \"portT\": \"fab\",\n",
        "                    \"prioFlowCtrl\": \"auto\",\n",
        "                    \"qiqL2ProtTunMask\": \"\",\n",
        "                    \"routerMac\": \"not-applicable\",\n",
        "                    \"snmpTrapSt\": \"enable\",\n",
        "                    \"spanMode\": \"not-a-span-dest\",\n",
        "                    \"speed\": \"inherit\",\n",
        "                    \"status\": \"\",\n",
        "                    \"switchingSt\": \"enabled\",\n",
        "                    \"trunkLog\": \"default\",\n",
        "                    \"usage\": \"fabric\"\n",
        "                }\n",
        "            }\n",
        "        },\n",
        "        {\n",
        "            \"l1PhysIf\": {\n",
        "                \"attributes\": {\n",
        "                    \"adminSt\": \"up\",\n",
        "                    \"autoNeg\": \"on\",\n",
        "                    \"brkoutMap\": \"none\",\n",
        "                    \"bw\": \"0\",\n",
        "                    \"childAction\": \"\",\n",
        "                    \"delay\": \"1\",\n",
        "                    \"descr\": \"\",\n",
        "                    \"dn\": \"topology/pod-1/node-201/sys/phys-[eth1/2]\",\n",
        "                    \"dot1qEtherType\": \"0x8100\",\n",
        "                    \"ethpmCfgFailedBmp\": \"\",\n",
        "                    \"ethpmCfgFailedTs\": \"00:00:00:00.000\",\n",
        "                    \"ethpmCfgState\": \"0\",\n",
        "                    \"fecMode\": \"inherit\",\n",
        "                    \"id\": \"eth1/2\",\n",
        "                    \"inhBw\": \"unspecified\",\n",
        "                    \"layer\": \"Layer3\",\n",
        "                    \"lcOwn\": \"local\",\n",
        "                    \"linkDebounce\": \"100\",\n",
        "                    \"linkLog\": \"default\",\n",
        "                    \"mdix\": \"auto\",\n",
        "                    \"medium\": \"broadcast\",\n",
        "                    \"modTs\": \"2017-06-30T06:36:08.122-05:00\",\n",
        "                    \"mode\": \"trunk\",\n",
        "                    \"monPolDn\": \"uni/fabric/monfab-default\",\n",
        "                    \"mtu\": \"9150\",\n",
        "                    \"name\": \"\",\n",
        "                    \"pathSDescr\": \"\",\n",
        "                    \"portT\": \"fab\",\n",
        "                    \"prioFlowCtrl\": \"auto\",\n",
        "                    \"qiqL2ProtTunMask\": \"\",\n",
        "                    \"routerMac\": \"not-applicable\",\n",
        "                    \"snmpTrapSt\": \"enable\",\n",
        "                    \"spanMode\": \"not-a-span-dest\",\n",
        "                    \"speed\": \"inherit\",\n",
        "                    \"status\": \"\",\n",
        "                    \"switchingSt\": \"enabled\",\n",
        "                    \"trunkLog\": \"default\",\n",
        "                    \"usage\": \"fabric\"\n",
        "                }\n",
        "            }\n",
        "        },\n",
        "        {\n",
        "            \"l1PhysIf\": {\n",
        "                \"attributes\": {\n",
        "                    \"adminSt\": \"up\",\n",
        "                    \"autoNeg\": \"on\",\n",
        "                    \"brkoutMap\": \"none\",\n",
        "                    \"bw\": \"0\",\n",
        "                    \"childAction\": \"\",\n",
        "                    \"delay\": \"1\",\n",
        "                    \"descr\": \"\",\n",
        "                    \"dn\": \"topology/pod-1/node-201/sys/phys-[eth1/3]\",\n",
        "                    \"dot1qEtherType\": \"0x8100\",\n",
        "                    \"ethpmCfgFailedBmp\": \"\",\n",
        "                    \"ethpmCfgFailedTs\": \"00:00:00:00.000\",\n",
        "                    \"ethpmCfgState\": \"0\",\n",
        "                    \"fecMode\": \"inherit\",\n",
        "                    \"id\": \"eth1/3\",\n",
        "                    \"inhBw\": \"unspecified\",\n",
        "                    \"layer\": \"Layer3\",\n",
        "                    \"lcOwn\": \"local\",\n",
        "                    \"linkDebounce\": \"100\",\n",
        "                    \"linkLog\": \"default\",\n",
        "                    \"mdix\": \"auto\",\n",
        "                    \"medium\": \"broadcast\",\n",
        "                    \"modTs\": \"2017-06-30T06:36:10.100-05:00\",\n",
        "                    \"mode\": \"trunk\",\n",
        "                    \"monPolDn\": \"uni/fabric/monfab-default\",\n",
        "                    \"mtu\": \"9150\",\n",
        "                    \"name\": \"\",\n",
        "                    \"pathSDescr\": \"\",\n",
        "                    \"portT\": \"fab\",\n",
        "                    \"prioFlowCtrl\": \"auto\",\n",
        "                    \"qiqL2ProtTunMask\": \"\",\n",
        "                    \"routerMac\": \"not-applicable\",\n",
        "                    \"snmpTrapSt\": \"enable\",\n",
        "                    \"spanMode\": \"not-a-span-dest\",\n",
        "                    \"speed\": \"inherit\",\n",
        "                    \"status\": \"\",\n",
        "                    \"switchingSt\": \"enabled\",\n",
        "                    \"trunkLog\": \"default\",\n",
        "                    \"usage\": \"fabric\"\n",
        "                }\n",
        "            }\n",
        "        },\n",
        "        {\n",
        "            \"l1PhysIf\": {\n",
        "                \"attributes\": {\n",
        "                    \"adminSt\": \"up\",\n",
        "                    \"autoNeg\": \"on\",\n",
        "                    \"brkoutMap\": \"none\",\n",
        "                    \"bw\": \"0\",\n",
        "                    \"childAction\": \"\",\n",
        "                    \"delay\": \"1\",\n",
        "                    \"descr\": \"\",\n",
        "                    \"dn\": \"topology/pod-1/node-201/sys/phys-[eth1/4]\",\n",
        "                    \"dot1qEtherType\": \"0x8100\",\n",
        "                    \"ethpmCfgFailedBmp\": \"\",\n",
        "                    \"ethpmCfgFailedTs\": \"00:00:00:00.000\",\n",
        "                    \"ethpmCfgState\": \"0\",\n",
        "                    \"fecMode\": \"inherit\",\n",
        "                    \"id\": \"eth1/4\",\n",
        "                    \"inhBw\": \"unspecified\",\n",
        "                    \"layer\": \"Layer3\",\n",
        "                    \"lcOwn\": \"local\",\n",
        "                    \"linkDebounce\": \"100\",\n",
        "                    \"linkLog\": \"default\",\n",
        "                    \"mdix\": \"auto\",\n",
        "                    \"medium\": \"broadcast\",\n",
        "                    \"modTs\": \"2017-06-30T06:36:03.247-05:00\",\n",
        "                    \"mode\": \"trunk\",\n",
        "                    \"monPolDn\": \"uni/fabric/monfab-default\",\n",
        "                    \"mtu\": \"9150\",\n",
        "                    \"name\": \"\",\n",
        "                    \"pathSDescr\": \"\",\n",
        "                    \"portT\": \"fab\",\n",
        "                    \"prioFlowCtrl\": \"auto\",\n",
        "                    \"qiqL2ProtTunMask\": \"\",\n",
        "                    \"routerMac\": \"not-applicable\",\n",
        "                    \"snmpTrapSt\": \"enable\",\n",
        "                    \"spanMode\": \"not-a-span-dest\",\n",
        "                    \"speed\": \"inherit\",\n",
        "                    \"status\": \"\",\n",
        "                    \"switchingSt\": \"enabled\",\n",
        "                    \"trunkLog\": \"default\",\n",
        "                    \"usage\": \"fabric\"\n",
        "                }\n",
        "            }\n",
        "        },\n",
        "        {\n",
        "            \"l1PhysIf\": {\n",
        "                \"attributes\": {\n",
        "                    \"adminSt\": \"up\",\n",
        "                    \"autoNeg\": \"on\",\n",
        "                    \"brkoutMap\": \"none\",\n",
        "                    \"bw\": \"0\",\n",
        "                    \"childAction\": \"\",\n",
        "                    \"delay\": \"1\",\n",
        "                    \"descr\": \"\",\n",
        "                    \"dn\": \"topology/pod-1/node-201/sys/phys-[eth1/5]\",\n",
        "                    \"dot1qEtherType\": \"0x8100\",\n",
        "                    \"ethpmCfgFailedBmp\": \"\",\n",
        "                    \"ethpmCfgFailedTs\": \"00:00:00:00.000\",\n",
        "                    \"ethpmCfgState\": \"0\",\n",
        "                    \"fecMode\": \"inherit\",\n",
        "                    \"id\": \"eth1/5\",\n",
        "                    \"inhBw\": \"unspecified\",\n",
        "                    \"layer\": \"Layer3\",\n",
        "                    \"lcOwn\": \"local\",\n",
        "                    \"linkDebounce\": \"100\",\n",
        "                    \"linkLog\": \"default\",\n",
        "                    \"mdix\": \"auto\",\n",
        "                    \"medium\": \"broadcast\",\n",
        "                    \"modTs\": \"2016-11-28T16:03:29.317-05:00\",\n",
        "                    \"mode\": \"trunk\",\n",
        "                    \"monPolDn\": \"uni/fabric/monfab-default\",\n",
        "                    \"mtu\": \"9150\",\n",
        "                    \"name\": \"\",\n",
        "                    \"pathSDescr\": \"\",\n",
        "                    \"portT\": \"fab\",\n",
        "                    \"prioFlowCtrl\": \"auto\",\n",
        "                    \"qiqL2ProtTunMask\": \"\",\n",
        "                    \"routerMac\": \"not-applicable\",\n",
        "                    \"snmpTrapSt\": \"enable\",\n",
        "                    \"spanMode\": \"not-a-span-dest\",\n",
        "                    \"speed\": \"inherit\",\n",
        "                    \"status\": \"\",\n",
        "                    \"switchingSt\": \"disabled\",\n",
        "                    \"trunkLog\": \"default\",\n",
        "                    \"usage\": \"fabric,fabric-ext\"\n",
        "                }\n",
        "            }\n",
        "        },\n",
        "        {\n",
        "            \"l1PhysIf\": {\n",
        "                \"attributes\": {\n",
        "                    \"adminSt\": \"up\",\n",
        "                    \"autoNeg\": \"on\",\n",
        "                    \"brkoutMap\": \"none\",\n",
        "                    \"bw\": \"0\",\n",
        "                    \"childAction\": \"\",\n",
        "                    \"delay\": \"1\",\n",
        "                    \"descr\": \"\",\n",
        "                    \"dn\": \"topology/pod-1/node-201/sys/phys-[eth1/6]\",\n",
        "                    \"dot1qEtherType\": \"0x8100\",\n",
        "                    \"ethpmCfgFailedBmp\": \"\",\n",
        "                    \"ethpmCfgFailedTs\": \"00:00:00:00.000\",\n",
        "                    \"ethpmCfgState\": \"0\",\n",
        "                    \"fecMode\": \"inherit\",\n",
        "                    \"id\": \"eth1/6\",\n",
        "                    \"inhBw\": \"unspecified\",\n",
        "                    \"layer\": \"Layer3\",\n",
        "                    \"lcOwn\": \"local\",\n",
        "                    \"linkDebounce\": \"100\",\n",
        "                    \"linkLog\": \"default\",\n",
        "                    \"mdix\": \"auto\",\n",
        "                    \"medium\": \"broadcast\",\n",
        "                    \"modTs\": \"2016-11-28T16:03:29.317-05:00\",\n",
        "                    \"mode\": \"trunk\",\n",
        "                    \"monPolDn\": \"uni/fabric/monfab-default\",\n",
        "                    \"mtu\": \"9150\",\n",
        "                    \"name\": \"\",\n",
        "                    \"pathSDescr\": \"\",\n",
        "                    \"portT\": \"fab\",\n",
        "                    \"prioFlowCtrl\": \"auto\",\n",
        "                    \"qiqL2ProtTunMask\": \"\",\n",
        "                    \"routerMac\": \"not-applicable\",\n",
        "                    \"snmpTrapSt\": \"enable\",\n",
        "                    \"spanMode\": \"not-a-span-dest\",\n",
        "                    \"speed\": \"inherit\",\n",
        "                    \"status\": \"\",\n",
        "                    \"switchingSt\": \"disabled\",\n",
        "                    \"trunkLog\": \"default\",\n",
        "                    \"usage\": \"fabric,fabric-ext\"\n",
        "                }\n",
        "            }\n",
        "        },\n",
        "        {\n",
        "            \"l1PhysIf\": {\n",
        "                \"attributes\": {\n",
        "                    \"adminSt\": \"up\",\n",
        "                    \"autoNeg\": \"on\",\n",
        "                    \"brkoutMap\": \"none\",\n",
        "                    \"bw\": \"0\",\n",
        "                    \"childAction\": \"\",\n",
        "                    \"delay\": \"1\",\n",
        "                    \"descr\": \"\",\n",
        "                    \"dn\": \"topology/pod-1/node-201/sys/phys-[eth1/7]\",\n",
        "                    \"dot1qEtherType\": \"0x8100\",\n",
        "                    \"ethpmCfgFailedBmp\": \"\",\n",
        "                    \"ethpmCfgFailedTs\": \"00:00:00:00.000\",\n",
        "                    \"ethpmCfgState\": \"0\",\n",
        "                    \"fecMode\": \"inherit\",\n",
        "                    \"id\": \"eth1/7\",\n",
        "                    \"inhBw\": \"unspecified\",\n",
        "                    \"layer\": \"Layer3\",\n",
        "                    \"lcOwn\": \"local\",\n",
        "                    \"linkDebounce\": \"100\",\n",
        "                    \"linkLog\": \"default\",\n",
        "                    \"mdix\": \"auto\",\n",
        "                    \"medium\": \"broadcast\",\n",
        "                    \"modTs\": \"2016-11-28T16:03:29.317-05:00\",\n",
        "                    \"mode\": \"trunk\",\n",
        "                    \"monPolDn\": \"uni/fabric/monfab-default\",\n",
        "                    \"mtu\": \"9150\",\n",
        "                    \"name\": \"\",\n",
        "                    \"pathSDescr\": \"\",\n",
        "                    \"portT\": \"fab\",\n",
        "                    \"prioFlowCtrl\": \"auto\",\n",
        "                    \"qiqL2ProtTunMask\": \"\",\n",
        "                    \"routerMac\": \"not-applicable\",\n",
        "                    \"snmpTrapSt\": \"enable\",\n",
        "                    \"spanMode\": \"not-a-span-dest\",\n",
        "                    \"speed\": \"inherit\",\n",
        "                    \"status\": \"\",\n",
        "                    \"switchingSt\": \"disabled\",\n",
        "                    \"trunkLog\": \"default\",\n",
        "                    \"usage\": \"fabric,fabric-ext\"\n",
        "                }\n",
        "            }\n",
        "        },\n",
        "        {\n",
        "            \"l1PhysIf\": {\n",
        "                \"attributes\": {\n",
        "                    \"adminSt\": \"up\",\n",
        "                    \"autoNeg\": \"on\",\n",
        "                    \"brkoutMap\": \"none\",\n",
        "                    \"bw\": \"0\",\n",
        "                    \"childAction\": \"\",\n",
        "                    \"delay\": \"1\",\n",
        "                    \"descr\": \"\",\n",
        "                    \"dn\": \"topology/pod-1/node-201/sys/phys-[eth1/8]\",\n",
        "                    \"dot1qEtherType\": \"0x8100\",\n",
        "                    \"ethpmCfgFailedBmp\": \"\",\n",
        "                    \"ethpmCfgFailedTs\": \"00:00:00:00.000\",\n",
        "                    \"ethpmCfgState\": \"0\",\n",
        "                    \"fecMode\": \"inherit\",\n",
        "                    \"id\": \"eth1/8\",\n",
        "                    \"inhBw\": \"unspecified\",\n",
        "                    \"layer\": \"Layer3\",\n",
        "                    \"lcOwn\": \"local\",\n",
        "                    \"linkDebounce\": \"100\",\n",
        "                    \"linkLog\": \"default\",\n",
        "                    \"mdix\": \"auto\",\n",
        "                    \"medium\": \"broadcast\",\n",
        "                    \"modTs\": \"2016-11-28T16:03:29.317-05:00\",\n",
        "                    \"mode\": \"trunk\",\n",
        "                    \"monPolDn\": \"uni/fabric/monfab-default\",\n",
        "                    \"mtu\": \"9150\",\n",
        "                    \"name\": \"\",\n",
        "                    \"pathSDescr\": \"\",\n",
        "                    \"portT\": \"fab\",\n",
        "                    \"prioFlowCtrl\": \"auto\",\n",
        "                    \"qiqL2ProtTunMask\": \"\",\n",
        "                    \"routerMac\": \"not-applicable\",\n",
        "                    \"snmpTrapSt\": \"enable\",\n",
        "                    \"spanMode\": \"not-a-span-dest\",\n",
        "                    \"speed\": \"inherit\",\n",
        "                    \"status\": \"\",\n",
        "                    \"switchingSt\": \"disabled\",\n",
        "                    \"trunkLog\": \"default\",\n",
        "                    \"usage\": \"fabric,fabric-ext\"\n",
        "                }\n",
        "            }\n",
        "        },\n",
        "        {\n",
        "            \"l1PhysIf\": {\n",
        "                \"attributes\": {\n",
        "                    \"adminSt\": \"up\",\n",
        "                    \"autoNeg\": \"on\",\n",
        "                    \"brkoutMap\": \"none\",\n",
        "                    \"bw\": \"0\",\n",
        "                    \"childAction\": \"\",\n",
        "                    \"delay\": \"1\",\n",
        "                    \"descr\": \"\",\n",
        "                    \"dn\": \"topology/pod-1/node-201/sys/phys-[eth1/9]\",\n",
        "                    \"dot1qEtherType\": \"0x8100\",\n",
        "                    \"ethpmCfgFailedBmp\": \"\",\n",
        "                    \"ethpmCfgFailedTs\": \"00:00:00:00.000\",\n",
        "                    \"ethpmCfgState\": \"0\",\n",
        "                    \"fecMode\": \"inherit\",\n",
        "                    \"id\": \"eth1/9\",\n",
        "                    \"inhBw\": \"unspecified\",\n",
        "                    \"layer\": \"Layer3\",\n",
        "                    \"lcOwn\": \"local\",\n",
        "                    \"linkDebounce\": \"100\",\n",
        "                    \"linkLog\": \"default\",\n",
        "                    \"mdix\": \"auto\",\n",
        "                    \"medium\": \"broadcast\",\n",
        "                    \"modTs\": \"2016-11-28T16:03:29.317-05:00\",\n",
        "                    \"mode\": \"trunk\",\n",
        "                    \"monPolDn\": \"uni/fabric/monfab-default\",\n",
        "                    \"mtu\": \"9150\",\n",
        "                    \"name\": \"\",\n",
        "                    \"pathSDescr\": \"\",\n",
        "                    \"portT\": \"fab\",\n",
        "                    \"prioFlowCtrl\": \"auto\",\n",
        "                    \"qiqL2ProtTunMask\": \"\",\n",
        "                    \"routerMac\": \"not-applicable\",\n",
        "                    \"snmpTrapSt\": \"enable\",\n",
        "                    \"spanMode\": \"not-a-span-dest\",\n",
        "                    \"speed\": \"inherit\",\n",
        "                    \"status\": \"\",\n",
        "                    \"switchingSt\": \"disabled\",\n",
        "                    \"trunkLog\": \"default\",\n",
        "                    \"usage\": \"fabric,fabric-ext\"\n",
        "                }\n",
        "            }\n",
        "        },\n",
        "        {\n",
        "            \"l1PhysIf\": {\n",
        "                \"attributes\": {\n",
        "                    \"adminSt\": \"up\",\n",
        "                    \"autoNeg\": \"on\",\n",
        "                    \"brkoutMap\": \"none\",\n",
        "                    \"bw\": \"0\",\n",
        "                    \"childAction\": \"\",\n",
        "                    \"delay\": \"1\",\n",
        "                    \"descr\": \"\",\n",
        "                    \"dn\": \"topology/pod-1/node-201/sys/phys-[eth1/10]\",\n",
        "                    \"dot1qEtherType\": \"0x8100\",\n",
        "                    \"ethpmCfgFailedBmp\": \"\",\n",
        "                    \"ethpmCfgFailedTs\": \"00:00:00:00.000\",\n",
        "                    \"ethpmCfgState\": \"0\",\n",
        "                    \"fecMode\": \"inherit\",\n",
        "                    \"id\": \"eth1/10\",\n",
        "                    \"inhBw\": \"unspecified\",\n",
        "                    \"layer\": \"Layer3\",\n",
        "                    \"lcOwn\": \"local\",\n",
        "                    \"linkDebounce\": \"100\",\n",
        "                    \"linkLog\": \"default\",\n",
        "                    \"mdix\": \"auto\",\n",
        "                    \"medium\": \"broadcast\",\n",
        "                    \"modTs\": \"2016-11-28T16:03:29.317-05:00\",\n",
        "                    \"mode\": \"trunk\",\n",
        "                    \"monPolDn\": \"uni/fabric/monfab-default\",\n",
        "                    \"mtu\": \"9150\",\n",
        "                    \"name\": \"\",\n",
        "                    \"pathSDescr\": \"\",\n",
        "                    \"portT\": \"fab\",\n",
        "                    \"prioFlowCtrl\": \"auto\",\n",
        "                    \"qiqL2ProtTunMask\": \"\",\n",
        "                    \"routerMac\": \"not-applicable\",\n",
        "                    \"snmpTrapSt\": \"enable\",\n",
        "                    \"spanMode\": \"not-a-span-dest\",\n",
        "                    \"speed\": \"inherit\",\n",
        "                    \"status\": \"\",\n",
        "                    \"switchingSt\": \"disabled\",\n",
        "                    \"trunkLog\": \"default\",\n",
        "                    \"usage\": \"fabric,fabric-ext\"\n",
        "                }\n",
        "            }\n",
        "        },\n",
        "        {\n",
        "            \"l1PhysIf\": {\n",
        "                \"attributes\": {\n",
        "                    \"adminSt\": \"up\",\n",
        "                    \"autoNeg\": \"on\",\n",
        "                    \"brkoutMap\": \"none\",\n",
        "                    \"bw\": \"0\",\n",
        "                    \"childAction\": \"\",\n",
        "                    \"delay\": \"1\",\n",
        "                    \"descr\": \"\",\n",
        "                    \"dn\": \"topology/pod-1/node-201/sys/phys-[eth1/11]\",\n",
        "                    \"dot1qEtherType\": \"0x8100\",\n",
        "                    \"ethpmCfgFailedBmp\": \"\",\n",
        "                    \"ethpmCfgFailedTs\": \"00:00:00:00.000\",\n",
        "                    \"ethpmCfgState\": \"0\",\n",
        "                    \"fecMode\": \"inherit\",\n",
        "                    \"id\": \"eth1/11\",\n",
        "                    \"inhBw\": \"unspecified\",\n",
        "                    \"layer\": \"Layer3\",\n",
        "                    \"lcOwn\": \"local\",\n",
        "                    \"linkDebounce\": \"100\",\n",
        "                    \"linkLog\": \"default\",\n",
        "                    \"mdix\": \"auto\",\n",
        "                    \"medium\": \"broadcast\",\n",
        "                    \"modTs\": \"2016-11-28T16:03:29.317-05:00\",\n",
        "                    \"mode\": \"trunk\",\n",
        "                    \"monPolDn\": \"uni/fabric/monfab-default\",\n",
        "                    \"mtu\": \"9150\",\n",
        "                    \"name\": \"\",\n",
        "                    \"pathSDescr\": \"\",\n",
        "                    \"portT\": \"fab\",\n",
        "                    \"prioFlowCtrl\": \"auto\",\n",
        "                    \"qiqL2ProtTunMask\": \"\",\n",
        "                    \"routerMac\": \"not-applicable\",\n",
        "                    \"snmpTrapSt\": \"enable\",\n",
        "                    \"spanMode\": \"not-a-span-dest\",\n",
        "                    \"speed\": \"inherit\",\n",
        "                    \"status\": \"\",\n",
        "                    \"switchingSt\": \"disabled\",\n",
        "                    \"trunkLog\": \"default\",\n",
        "                    \"usage\": \"fabric,fabric-ext\"\n",
        "                }\n",
        "            }\n",
        "        },\n",
        "        {\n",
        "            \"l1PhysIf\": {\n",
        "                \"attributes\": {\n",
        "                    \"adminSt\": \"up\",\n",
        "                    \"autoNeg\": \"on\",\n",
        "                    \"brkoutMap\": \"none\",\n",
        "                    \"bw\": \"0\",\n",
        "                    \"childAction\": \"\",\n",
        "                    \"delay\": \"1\",\n",
        "                    \"descr\": \"\",\n",
        "                    \"dn\": \"topology/pod-1/node-201/sys/phys-[eth1/12]\",\n",
        "                    \"dot1qEtherType\": \"0x8100\",\n",
        "                    \"ethpmCfgFailedBmp\": \"\",\n",
        "                    \"ethpmCfgFailedTs\": \"00:00:00:00.000\",\n",
        "                    \"ethpmCfgState\": \"0\",\n",
        "                    \"fecMode\": \"inherit\",\n",
        "                    \"id\": \"eth1/12\",\n",
        "                    \"inhBw\": \"unspecified\",\n",
        "                    \"layer\": \"Layer3\",\n",
        "                    \"lcOwn\": \"local\",\n",
        "                    \"linkDebounce\": \"100\",\n",
        "                    \"linkLog\": \"default\",\n",
        "                    \"mdix\": \"auto\",\n",
        "                    \"medium\": \"broadcast\",\n",
        "                    \"modTs\": \"2016-11-28T16:03:29.317-05:00\",\n",
        "                    \"mode\": \"trunk\",\n",
        "                    \"monPolDn\": \"uni/fabric/monfab-default\",\n",
        "                    \"mtu\": \"9150\",\n",
        "                    \"name\": \"\",\n",
        "                    \"pathSDescr\": \"\",\n",
        "                    \"portT\": \"fab\",\n",
        "                    \"prioFlowCtrl\": \"auto\",\n",
        "                    \"qiqL2ProtTunMask\": \"\",\n",
        "                    \"routerMac\": \"not-applicable\",\n",
        "                    \"snmpTrapSt\": \"enable\",\n",
        "                    \"spanMode\": \"not-a-span-dest\",\n",
        "                    \"speed\": \"inherit\",\n",
        "                    \"status\": \"\",\n",
        "                    \"switchingSt\": \"disabled\",\n",
        "                    \"trunkLog\": \"default\",\n",
        "                    \"usage\": \"fabric,fabric-ext\"\n",
        "                }\n",
        "            }\n",
        "        },\n",
        "        {\n",
        "            \"l1PhysIf\": {\n",
        "                \"attributes\": {\n",
        "                    \"adminSt\": \"up\",\n",
        "                    \"autoNeg\": \"on\",\n",
        "                    \"brkoutMap\": \"none\",\n",
        "                    \"bw\": \"0\",\n",
        "                    \"childAction\": \"\",\n",
        "                    \"delay\": \"1\",\n",
        "                    \"descr\": \"\",\n",
        "                    \"dn\": \"topology/pod-1/node-201/sys/phys-[eth1/13]\",\n",
        "                    \"dot1qEtherType\": \"0x8100\",\n",
        "                    \"ethpmCfgFailedBmp\": \"\",\n",
        "                    \"ethpmCfgFailedTs\": \"00:00:00:00.000\",\n",
        "                    \"ethpmCfgState\": \"0\",\n",
        "                    \"fecMode\": \"inherit\",\n",
        "                    \"id\": \"eth1/13\",\n",
        "                    \"inhBw\": \"unspecified\",\n",
        "                    \"layer\": \"Layer3\",\n",
        "                    \"lcOwn\": \"local\",\n",
        "                    \"linkDebounce\": \"100\",\n",
        "                    \"linkLog\": \"default\",\n",
        "                    \"mdix\": \"auto\",\n",
        "                    \"medium\": \"broadcast\",\n",
        "                    \"modTs\": \"2016-11-28T16:03:29.317-05:00\",\n",
        "                    \"mode\": \"trunk\",\n",
        "                    \"monPolDn\": \"uni/fabric/monfab-default\",\n",
        "                    \"mtu\": \"9150\",\n",
        "                    \"name\": \"\",\n",
        "                    \"pathSDescr\": \"\",\n",
        "                    \"portT\": \"fab\",\n",
        "                    \"prioFlowCtrl\": \"auto\",\n",
        "                    \"qiqL2ProtTunMask\": \"\",\n",
        "                    \"routerMac\": \"not-applicable\",\n",
        "                    \"snmpTrapSt\": \"enable\",\n",
        "                    \"spanMode\": \"not-a-span-dest\",\n",
        "                    \"speed\": \"inherit\",\n",
        "                    \"status\": \"\",\n",
        "                    \"switchingSt\": \"disabled\",\n",
        "                    \"trunkLog\": \"default\",\n",
        "                    \"usage\": \"fabric,fabric-ext\"\n",
        "                }\n",
        "            }\n",
        "        },\n",
        "        {\n",
        "            \"l1PhysIf\": {\n",
        "                \"attributes\": {\n",
        "                    \"adminSt\": \"up\",\n",
        "                    \"autoNeg\": \"on\",\n",
        "                    \"brkoutMap\": \"none\",\n",
        "                    \"bw\": \"0\",\n",
        "                    \"childAction\": \"\",\n",
        "                    \"delay\": \"1\",\n",
        "                    \"descr\": \"\",\n",
        "                    \"dn\": \"topology/pod-1/node-201/sys/phys-[eth1/14]\",\n",
        "                    \"dot1qEtherType\": \"0x8100\",\n",
        "                    \"ethpmCfgFailedBmp\": \"\",\n",
        "                    \"ethpmCfgFailedTs\": \"00:00:00:00.000\",\n",
        "                    \"ethpmCfgState\": \"0\",\n",
        "                    \"fecMode\": \"inherit\",\n",
        "                    \"id\": \"eth1/14\",\n",
        "                    \"inhBw\": \"unspecified\",\n",
        "                    \"layer\": \"Layer3\",\n",
        "                    \"lcOwn\": \"local\",\n",
        "                    \"linkDebounce\": \"100\",\n",
        "                    \"linkLog\": \"default\",\n",
        "                    \"mdix\": \"auto\",\n",
        "                    \"medium\": \"broadcast\",\n",
        "                    \"modTs\": \"2016-11-28T16:03:29.317-05:00\",\n",
        "                    \"mode\": \"trunk\",\n",
        "                    \"monPolDn\": \"uni/fabric/monfab-default\",\n",
        "                    \"mtu\": \"9150\",\n",
        "                    \"name\": \"\",\n",
        "                    \"pathSDescr\": \"\",\n",
        "                    \"portT\": \"fab\",\n",
        "                    \"prioFlowCtrl\": \"auto\",\n",
        "                    \"qiqL2ProtTunMask\": \"\",\n",
        "                    \"routerMac\": \"not-applicable\",\n",
        "                    \"snmpTrapSt\": \"enable\",\n",
        "                    \"spanMode\": \"not-a-span-dest\",\n",
        "                    \"speed\": \"inherit\",\n",
        "                    \"status\": \"\",\n",
        "                    \"switchingSt\": \"disabled\",\n",
        "                    \"trunkLog\": \"default\",\n",
        "                    \"usage\": \"fabric,fabric-ext\"\n",
        "                }\n",
        "            }\n",
        "        }\n",
        "    ]\n",
        "}\n",
        "\"\"\")\n",
        "\n",
        "formatted_output = format_interface_status(json_data)\n",
        "print(formatted_output)"
      ],
      "metadata": {
        "colab": {
          "base_uri": "https://localhost:8080/"
        },
        "id": "3dg0iVu-OGOT",
        "outputId": "ba075051-cb1a-4147-e4fb-f16d3a16a279"
      },
      "execution_count": null,
      "outputs": [
        {
          "output_type": "stream",
          "name": "stdout",
          "text": [
            "Interface Status\n",
            "================================================================================\n",
            "DN                                                 Description          Speed    MTU     \n",
            "-------------------------------------------------- -------------------- -------- --------\n",
            "topology/pod-1/node-201/sys/phys-[eth1/33]                              inherit  9150    \n",
            "topology/pod-1/node-201/sys/phys-[eth1/34]                              inherit  9150    \n",
            "topology/pod-1/node-201/sys/phys-[eth1/35]                              inherit  9150    \n",
            "topology/pod-1/node-201/sys/phys-[eth1/36]                              inherit  9150    \n",
            "topology/pod-1/node-201/sys/phys-[eth1/1]                               inherit  9150    \n",
            "topology/pod-1/node-201/sys/phys-[eth1/2]                               inherit  9150    \n",
            "topology/pod-1/node-201/sys/phys-[eth1/3]                               inherit  9150    \n",
            "topology/pod-1/node-201/sys/phys-[eth1/4]                               inherit  9150    \n",
            "topology/pod-1/node-201/sys/phys-[eth1/5]                               inherit  9150    \n",
            "topology/pod-1/node-201/sys/phys-[eth1/6]                               inherit  9150    \n",
            "topology/pod-1/node-201/sys/phys-[eth1/7]                               inherit  9150    \n",
            "topology/pod-1/node-201/sys/phys-[eth1/8]                               inherit  9150    \n",
            "topology/pod-1/node-201/sys/phys-[eth1/9]                               inherit  9150    \n",
            "topology/pod-1/node-201/sys/phys-[eth1/10]                              inherit  9150    \n",
            "topology/pod-1/node-201/sys/phys-[eth1/11]                              inherit  9150    \n",
            "topology/pod-1/node-201/sys/phys-[eth1/12]                              inherit  9150    \n",
            "topology/pod-1/node-201/sys/phys-[eth1/13]                              inherit  9150    \n",
            "topology/pod-1/node-201/sys/phys-[eth1/14]                              inherit  9150    \n",
            "\n"
          ]
        }
      ]
    }
  ]
}